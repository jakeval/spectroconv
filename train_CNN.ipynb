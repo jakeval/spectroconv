{
 "cells": [
  {
   "cell_type": "code",
   "execution_count": 1,
   "id": "ca2dc0ba",
   "metadata": {
    "id": "ca2dc0ba"
   },
   "outputs": [],
   "source": [
    "%load_ext autoreload\n",
    "%autoreload 2"
   ]
  },
  {
   "cell_type": "code",
   "execution_count": 2,
   "id": "349a614a",
   "metadata": {
    "colab": {
     "base_uri": "https://localhost:8080/"
    },
    "executionInfo": {
     "elapsed": 40787,
     "status": "ok",
     "timestamp": 1651217617460,
     "user": {
      "displayName": "Sam Kovaly",
      "userId": "17129778629783255676"
     },
     "user_tz": 240
    },
    "id": "349a614a",
    "outputId": "b8d3a1ec-b1b4-4fd1-d607-c9acdbbe1c81"
   },
   "outputs": [],
   "source": [
    "# ENABLE IF USING COLAB\n",
    "USE_COLAB = False\n",
    "\n",
    "if USE_COLAB:\n",
    "    import os\n",
    "    from google.colab import drive\n",
    "    \n",
    "    FOLDERNAME = 'UMass_Amherst/NN_AMI/NN_Project'\n",
    "    drive.mount('/content/drive')\n",
    "    %cd /content/drive/My\\ Drive/$FOLDERNAME\n",
    "\n",
    "    if os.path.exists('./spectroconv/'):\n",
    "      %cd ./spectroconv\n",
    "      !pip install hub\n",
    "      !pip install hub[audio]\n",
    "      !pip install wandb\n",
    "    else:\n",
    "      print(\"Error, must first pull project repository from github to Drive using ColabGitCommands.ipynb\")"
   ]
  },
  {
   "cell_type": "code",
   "execution_count": 3,
   "id": "hu_JdznXfTy-",
   "metadata": {
    "colab": {
     "base_uri": "https://localhost:8080/"
    },
    "executionInfo": {
     "elapsed": 2280,
     "status": "ok",
     "timestamp": 1651217619733,
     "user": {
      "displayName": "Sam Kovaly",
      "userId": "17129778629783255676"
     },
     "user_tz": 240
    },
    "id": "hu_JdznXfTy-",
    "outputId": "95abf8ae-bf9b-47d9-da81-0c526907b7e3"
   },
   "outputs": [
    {
     "name": "stdout",
     "output_type": "stream",
     "text": [
      "/bin/bash: nvidia-smi: command not found\n"
     ]
    }
   ],
   "source": [
    "import torch\n",
    "gpu_info = !nvidia-smi\n",
    "gpu_info = '\\n'.join(gpu_info)\n",
    "if gpu_info.find('failed') >= 0:\n",
    "  print('Not connected to a GPU')\n",
    "else:\n",
    "  print(gpu_info)"
   ]
  },
  {
   "cell_type": "code",
   "execution_count": 7,
   "id": "d8c45975",
   "metadata": {
    "colab": {
     "base_uri": "https://localhost:8080/"
    },
    "executionInfo": {
     "elapsed": 11880,
     "status": "ok",
     "timestamp": 1651217631607,
     "user": {
      "displayName": "Sam Kovaly",
      "userId": "17129778629783255676"
     },
     "user_tz": 240
    },
    "id": "d8c45975",
    "outputId": "b2016573-2cab-499d-c926-defe786fe918"
   },
   "outputs": [],
   "source": [
    "from models import wb_experiment"
   ]
  },
  {
   "cell_type": "code",
   "execution_count": 21,
   "id": "Jc-5Rl4qXpXQ",
   "metadata": {
    "id": "Jc-5Rl4qXpXQ"
   },
   "outputs": [],
   "source": [
    "n_mels = 128\n",
    "wb_config = {\n",
    "    'project': 'spectroconv-debug',\n",
    "    'entity': 'jakeval-colab',\n",
    "    'group': 'cnn' # use this only when training/evaluating/etc a CNN\n",
    "}\n",
    "\n",
    "config = {\n",
    "    'data': {\n",
    "        'train': {\n",
    "            'name': 'nsynth-med-train'\n",
    "        },\n",
    "        'val': {\n",
    "            'name': 'nsynth-med-val'\n",
    "        }\n",
    "    },\n",
    "    'model': {\n",
    "        'id': wb_experiment.ModelType.CNN,\n",
    "        'name': 'CNN-small'\n",
    "    },\n",
    "    'logging': {\n",
    "        'batch_log_interval': 50,\n",
    "        'eval_every_epoch': True,\n",
    "    },\n",
    "    'parameters': {\n",
    "      'epochs': 2,\n",
    "      'batch_size': 64,\n",
    "      'optimizer': 'adam',\n",
    "      'learning_rate': 0.0005,\n",
    "      'dropout_fc': 0.5, # probability of an element to be zeroed (0 = no dropout)\n",
    "      'dropout_conv': 0.1,\n",
    "      'dropout_input': 0.2,\n",
    "      'l2_reg': 0,\n",
    "      'kernel_size': 3,\n",
    "      'num_channels': [8, 16],\n",
    "      'linear_layer_size': 32,\n",
    "    },\n",
    "}"
   ]
  },
  {
   "cell_type": "code",
   "execution_count": null,
   "id": "DvTC7XoiX3lS",
   "metadata": {
    "id": "DvTC7XoiX3lS"
   },
   "outputs": [
    {
     "data": {
      "text/html": [
       "wandb version 0.12.15 is available!  To upgrade, please run:\n",
       " $ pip install wandb --upgrade"
      ],
      "text/plain": [
       "<IPython.core.display.HTML object>"
      ]
     },
     "metadata": {},
     "output_type": "display_data"
    },
    {
     "data": {
      "text/html": [
       "Tracking run with wandb version 0.12.14"
      ],
      "text/plain": [
       "<IPython.core.display.HTML object>"
      ]
     },
     "metadata": {},
     "output_type": "display_data"
    },
    {
     "data": {
      "text/html": [
       "Run data is saved locally in <code>/home/jakeval/umass/682/project/spectroconv/wandb/run-20220501_014436-3b1jcan6</code>"
      ],
      "text/plain": [
       "<IPython.core.display.HTML object>"
      ]
     },
     "metadata": {},
     "output_type": "display_data"
    },
    {
     "data": {
      "text/html": [
       "Syncing run <strong><a href=\"https://wandb.ai/jakeval-colab/spectroconv-debug/runs/3b1jcan6\" target=\"_blank\">resilient-gorge-505</a></strong> to <a href=\"https://wandb.ai/jakeval-colab/spectroconv-debug\" target=\"_blank\">Weights & Biases</a> (<a href=\"https://wandb.me/run\" target=\"_blank\">docs</a>)<br/>"
      ],
      "text/plain": [
       "<IPython.core.display.HTML object>"
      ]
     },
     "metadata": {},
     "output_type": "display_data"
    },
    {
     "name": "stdout",
     "output_type": "stream",
     "text": [
      "hub://jakeval/nsynth-med-train-metadata loaded successfully.\n"
     ]
    },
    {
     "name": "stderr",
     "output_type": "stream",
     "text": [
      "/home/jakeval/umass/682/project/spectroconv/.env/lib/python3.8/site-packages/hub/core/fast_forwarding.py:43: UserWarning: Loading a dataset that was created or updated with a newer version of hub. This could lead to corruption or unexpected errors! Dataset version: 2.4.0, current hub version: 2.3.2. It's recommended that you update to a version of hub >= 2.4.0.\n",
      "  warnings.warn(\n"
     ]
    },
    {
     "name": "stdout",
     "output_type": "stream",
     "text": [
      "This dataset can be visualized at https://app.activeloop.ai/jakeval/nsynth-med-train-metadata.\n",
      "hub://jakeval/nsynth-med-train loaded successfully.\n",
      "This dataset can be visualized at https://app.activeloop.ai/jakeval/nsynth-med-train.\n",
      "hub://jakeval/nsynth-med-val-metadata loaded successfully.\n",
      "This dataset can be visualized at https://app.activeloop.ai/jakeval/nsynth-med-val-metadata.\n",
      "hub://jakeval/nsynth-med-val loaded successfully.\n",
      "This dataset can be visualized at https://app.activeloop.ai/jakeval/nsynth-med-val.\n"
     ]
    },
    {
     "data": {
      "application/vnd.jupyter.widget-view+json": {
       "model_id": "8bafed7f886449d2af6e24899c871050",
       "version_major": 2,
       "version_minor": 0
      },
      "text/plain": [
       "  0%|          | 0/2 [00:00<?, ?it/s]"
      ]
     },
     "metadata": {},
     "output_type": "display_data"
    },
    {
     "data": {
      "application/vnd.jupyter.widget-view+json": {
       "model_id": "7949c61b86f74c1b8d8b19f39fd182ac",
       "version_major": 2,
       "version_minor": 0
      },
      "text/plain": [
       "  0%|          | 0/953 [00:00<?, ?it/s]"
      ]
     },
     "metadata": {},
     "output_type": "display_data"
    }
   ],
   "source": [
    "trainer = wb_experiment.TrainExperiment(wb_config=wb_config, login_key=False)\n",
    "trainer.run_train(config, save_model=False)"
   ]
  },
  {
   "cell_type": "code",
   "execution_count": null,
   "id": "-oRNpsSKX2ls",
   "metadata": {
    "id": "-oRNpsSKX2ls"
   },
   "outputs": [],
   "source": [
    "# untested\n",
    "\n",
    "config = {\n",
    "    'data': {\n",
    "        'val': {\n",
    "            'name': f'nsynth-full-{n_mels}-val'\n",
    "        }\n",
    "    },\n",
    "    'model_name': 'CNN',\n",
    "    'eval': {\n",
    "        'examples': {\n",
    "            'k': 8\n",
    "        }\n",
    "    }\n",
    "}\n"
   ]
  },
  {
   "cell_type": "code",
   "execution_count": null,
   "id": "ja-dkKBGX4bu",
   "metadata": {
    "id": "ja-dkKBGX4bu"
   },
   "outputs": [],
   "source": [
    "trainer = wb_experiment.EvalExperiment(wb_config)\n",
    "metrics, examples_df = trainer.run_evaluate(config)"
   ]
  },
  {
   "cell_type": "markdown",
   "id": "22f34ede",
   "metadata": {
    "id": "22f34ede"
   },
   "source": [
    "## Train on the full dataset"
   ]
  },
  {
   "cell_type": "code",
   "execution_count": null,
   "id": "31c93ecf",
   "metadata": {
    "id": "31c93ecf"
   },
   "outputs": [],
   "source": [
    "# Wandb should take care of plotting for us?\n",
    "\n",
    "'''\n",
    "from matplotlib import pyplot as plt\n",
    "fig, ax = plt.subplots()\n",
    "ax.plot(losses)\n",
    "fig, ax = plt.subplots()\n",
    "ax.plot(train_accuracies, label='train acc')\n",
    "ax.plot(val_accuracies, label='val acc')\n",
    "ax.plot(val_f1s, label='val f1')\n",
    "ax.legend()\n",
    "plt.savefig(\"learning_metrics.png\")\n",
    "plt.show()\n",
    "'''"
   ]
  },
  {
   "cell_type": "code",
   "execution_count": null,
   "id": "61GR43rUhqSI",
   "metadata": {
    "colab": {
     "base_uri": "https://localhost:8080/"
    },
    "executionInfo": {
     "elapsed": 14855,
     "status": "ok",
     "timestamp": 1649815989654,
     "user": {
      "displayName": "Sam Kovaly",
      "userId": "17129778629783255676"
     },
     "user_tz": 240
    },
    "id": "61GR43rUhqSI",
    "outputId": "3b9b874f-8344-4ce4-b049-d24c536d0617"
   },
   "outputs": [
    {
     "name": "stdout",
     "output_type": "stream",
     "text": [
      "0.7415788789179347\n"
     ]
    }
   ],
   "source": [
    "#print(train_model.stream_accuracy(clf, dl_val, device))"
   ]
  },
  {
   "cell_type": "code",
   "execution_count": null,
   "id": "_U3W1tVti4NO",
   "metadata": {
    "colab": {
     "base_uri": "https://localhost:8080/"
    },
    "executionInfo": {
     "elapsed": 17037,
     "status": "ok",
     "timestamp": 1649816014563,
     "user": {
      "displayName": "Sam Kovaly",
      "userId": "17129778629783255676"
     },
     "user_tz": 240
    },
    "id": "_U3W1tVti4NO",
    "outputId": "19a3599f-d8bf-4cf8-c2d7-9ef43bb16e6e"
   },
   "outputs": [
    {
     "name": "stdout",
     "output_type": "stream",
     "text": [
      "0.7109029348873568\n"
     ]
    }
   ],
   "source": [
    "#print(train_model.stream_f1(clf, dl_val, device))"
   ]
  }
 ],
 "metadata": {
  "accelerator": "GPU",
  "colab": {
   "collapsed_sections": [],
   "name": "train_CNN.ipynb",
   "provenance": []
  },
  "kernelspec": {
   "display_name": "Python 3 (ipykernel)",
   "language": "python",
   "name": "python3"
  },
  "language_info": {
   "codemirror_mode": {
    "name": "ipython",
    "version": 3
   },
   "file_extension": ".py",
   "mimetype": "text/x-python",
   "name": "python",
   "nbconvert_exporter": "python",
   "pygments_lexer": "ipython3",
   "version": "3.8.5"
  }
 },
 "nbformat": 4,
 "nbformat_minor": 5
}
