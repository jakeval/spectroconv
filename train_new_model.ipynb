{
 "cells": [
  {
   "cell_type": "code",
   "execution_count": 1,
   "id": "ca2dc0ba",
   "metadata": {},
   "outputs": [],
   "source": [
    "%load_ext autoreload\n",
    "%autoreload 2"
   ]
  },
  {
   "cell_type": "code",
   "execution_count": null,
   "id": "349a614a",
   "metadata": {},
   "outputs": [],
   "source": [
    "# ENABLE IF USING COLAB\n",
    "USE_COLAB = False\n",
    "\n",
    "if USE_COLAB:\n",
    "    import os\n",
    "    import shutil\n",
    "    if os.path.exists('/content/spectroconv/'):\n",
    "        shutil.rmtree('/content/spectroconv/') #deletes a directory and all its contents.\n",
    "    !git clone https://github.com/jakeval/spectroconv.git\n",
    "    !pip install hub\n",
    "    !pip install hub[audio]\n",
    "    import sys\n",
    "    sys.path.insert(0,'/content/spectroconv')"
   ]
  },
  {
   "cell_type": "code",
   "execution_count": 81,
   "id": "d8c45975",
   "metadata": {},
   "outputs": [],
   "source": [
    "from data_utils import nsynth_adapter as na\n",
    "from matplotlib import pyplot as plt\n",
    "from models import train_model, cnn_model\n",
    "import numpy as np"
   ]
  },
  {
   "cell_type": "markdown",
   "id": "86d26062",
   "metadata": {},
   "source": [
    "# Train on just two classes"
   ]
  },
  {
   "cell_type": "markdown",
   "id": "a7696d96",
   "metadata": {},
   "source": [
    "## Construct and visualize subset"
   ]
  },
  {
   "cell_type": "code",
   "execution_count": 39,
   "id": "6b5a4a92",
   "metadata": {},
   "outputs": [
    {
     "name": "stdout",
     "output_type": "stream",
     "text": [
      "hub://jakeval/nsynth-train-metadata loaded successfully.\n"
     ]
    },
    {
     "name": "stderr",
     "output_type": "stream",
     "text": [
      "/home/jakeval/umass/682/project/spectroconv/.env/lib/python3.8/site-packages/hub/core/fast_forwarding.py:43: UserWarning: Loading a dataset that was created or updated with a newer version of hub. This could lead to corruption or unexpected errors! Dataset version: 2.3.3, current hub version: 2.3.2. It's recommended that you update to a version of hub >= 2.3.3.\n",
      "  warnings.warn(\n"
     ]
    },
    {
     "name": "stdout",
     "output_type": "stream",
     "text": [
      "This dataset can be visualized at https://app.activeloop.ai/jakeval/nsynth-train-metadata.\n",
      "hub://jakeval/nsynth-train loaded successfully.\n",
      "This dataset can be visualized at https://app.activeloop.ai/jakeval/nsynth-train.\n",
      "Begin loading 2490 spectrograms...\n",
      "(2490, 128, 71)\n"
     ]
    }
   ],
   "source": [
    "train_data = na.NsynthDataset(source='train')\n",
    "train_data.initialize()\n",
    "X, y, ids = train_data.get_data(selected_families=[6, 4], instruments_per_family=8, max_pitch=67, min_pitch=53)\n",
    "print(\"Finished loading spectrograms\")\n",
    "\n",
    "df = train_data.visualize_new_dataset(ids)\n",
    "for i in range(df.shape[0]):\n",
    "    spectrogram = df.iloc[i]['audio']\n",
    "    fig, ax = spectrogram.visualize()\n",
    "    instrument_family = na.InstrumentFamily(df.iloc[i]['family']).name\n",
    "    instrument = df.iloc[i]['instrument']\n",
    "    ax.set_title(f\"{instrument_family} {instrument} (pitch {df.iloc[i]['pitch']}, id {df.iloc[i]['id']})\")\n",
    "    plt.show(fig)\n",
    "    spectrogram.play()"
   ]
  },
  {
   "cell_type": "code",
   "execution_count": 44,
   "id": "eb409afb",
   "metadata": {},
   "outputs": [
    {
     "name": "stdout",
     "output_type": "stream",
     "text": [
      "hub://jakeval/nsynth-val-metadata loaded successfully.\n"
     ]
    },
    {
     "name": "stderr",
     "output_type": "stream",
     "text": [
      "/home/jakeval/umass/682/project/spectroconv/.env/lib/python3.8/site-packages/hub/core/fast_forwarding.py:43: UserWarning: Loading a dataset that was created or updated with a newer version of hub. This could lead to corruption or unexpected errors! Dataset version: 2.3.3, current hub version: 2.3.2. It's recommended that you update to a version of hub >= 2.3.3.\n",
      "  warnings.warn(\n"
     ]
    },
    {
     "name": "stdout",
     "output_type": "stream",
     "text": [
      "This dataset can be visualized at https://app.activeloop.ai/jakeval/nsynth-val-metadata.\n",
      "hub://jakeval/nsynth-val loaded successfully.\n",
      "This dataset can be visualized at https://app.activeloop.ai/jakeval/nsynth-val.\n",
      "Begin loading 1092 spectrograms...\n"
     ]
    }
   ],
   "source": [
    "val_data = na.NsynthDataset(source='validate')\n",
    "val_data.initialize(code_lookup=train_data.code_lookup)\n",
    "X_val, y_val, ids_val = val_data.get_data(selected_families=[4, 6], instruments_per_family=4, max_pitch=67, min_pitch=53)\n",
    "print(\"Finished loading spectrograms\")\n",
    "\n",
    "df = val_data.visualize_new_dataset(ids_val, audio_source='validate')\n",
    "for i in range(df.shape[0]):\n",
    "    spectrogram = df.iloc[i]['audio']\n",
    "    fig, ax = spectrogram.visualize()\n",
    "    instrument_family = na.InstrumentFamily(df.iloc[i]['family']).name\n",
    "    instrument = df.iloc[i]['instrument']\n",
    "    ax.set_title(f\"{instrument_family} {instrument} (pitch {df.iloc[i]['pitch']}, id {df.iloc[i]['id']})\")\n",
    "    plt.show(fig)\n",
    "    spectrogram.play()"
   ]
  },
  {
   "cell_type": "code",
   "execution_count": 89,
   "id": "d1ee7d21",
   "metadata": {},
   "outputs": [
    {
     "name": "stdout",
     "output_type": "stream",
     "text": [
      "Check starting accuracy...\n",
      "0.4375 0.4921875\n",
      "Start Training...\n",
      "epoch 1 \t\t loss: 0.622 \t train: 0.961 \t val: 0.961\n",
      "epoch 2 \t\t loss: 0.148 \t train: 0.969 \t val: 0.969\n",
      "epoch 3 \t\t loss: 0.073 \t train: 1.000 \t val: 1.000\n",
      "epoch 4 \t\t loss: 0.055 \t train: 0.945 \t val: 0.945\n",
      "epoch 5 \t\t loss: 0.050 \t train: 0.992 \t val: 0.992\n",
      "epoch 6 \t\t loss: 0.015 \t train: 1.000 \t val: 1.000\n",
      "epoch 7 \t\t loss: 0.007 \t train: 1.000 \t val: 1.000\n",
      "epoch 8 \t\t loss: 0.003 \t train: 1.000 \t val: 1.000\n",
      "epoch 9 \t\t loss: 0.002 \t train: 1.000 \t val: 1.000\n",
      "epoch 10 \t\t loss: 0.001 \t train: 1.000 \t val: 1.000\n"
     ]
    }
   ],
   "source": [
    "clf = cnn_model.CnnClf(2, (128, 71))\n",
    "clf, losses, train_accuracies, val_accuracies = train_model.train_model(clf, X, y, X_val, y_val, epochs=10)"
   ]
  },
  {
   "cell_type": "code",
   "execution_count": 90,
   "id": "cbd302a4",
   "metadata": {},
   "outputs": [
    {
     "data": {
      "image/png": "[encoded data removed]",
      "text/plain": [
       "<Figure size 432x288 with 1 Axes>"
      ]
     },
     "metadata": {
      "needs_background": "light"
     },
     "output_type": "display_data"
    },
    {
     "data": {
      "image/png": "[encoded data removed]",
      "text/plain": [
       "<Figure size 432x288 with 1 Axes>"
      ]
     },
     "metadata": {
      "needs_background": "light"
     },
     "output_type": "display_data"
    }
   ],
   "source": [
    "fig, ax = plt.subplots()\n",
    "ax.plot(losses)\n",
    "fig, ax = plt.subplots()\n",
    "ax.plot(train_accuracies, label='train')\n",
    "ax.plot(val_accuracies, label='val')\n",
    "ax.legend()\n",
    "plt.show()"
   ]
  },
  {
   "cell_type": "markdown",
   "id": "22f34ede",
   "metadata": {},
   "source": [
    "## Train on the full dataset"
   ]
  },
  {
   "cell_type": "code",
   "execution_count": 182,
   "id": "2193a774",
   "metadata": {},
   "outputs": [
    {
     "name": "stdout",
     "output_type": "stream",
     "text": [
      "hub://jakeval/nsynth-train-metadata loaded successfully.\n",
      "This dataset can be visualized at https://app.activeloop.ai/jakeval/nsynth-train-metadata.\n",
      "hub://jakeval/nsynth-train loaded successfully.\n",
      "This dataset can be visualized at https://app.activeloop.ai/jakeval/nsynth-train.\n",
      "hub://jakeval/nsynth-val-metadata loaded successfully.\n",
      "This dataset can be visualized at https://app.activeloop.ai/jakeval/nsynth-val-metadata.\n",
      "hub://jakeval/nsynth-val loaded successfully.\n",
      "This dataset can be visualized at https://app.activeloop.ai/jakeval/nsynth-val.\n",
      "Start Training...\n",
      "0\n",
      "1\n",
      "2\n",
      "3\n",
      "4\n",
      "5\n",
      "6\n",
      "7\n",
      "8\n",
      "9\n",
      "10\n",
      "11\n",
      "epoch 1 \t\t loss: 1.487 \t train: 0.199 \t val: 0.453\n",
      "0\n",
      "1\n",
      "2\n",
      "3\n",
      "4\n",
      "5\n",
      "6\n",
      "7\n",
      "8\n",
      "9\n",
      "10\n",
      "11\n",
      "epoch 2 \t\t loss: 1.474 \t train: 0.225 \t val: 0.344\n",
      "0\n",
      "1\n",
      "2\n",
      "3\n",
      "4\n",
      "5\n",
      "6\n",
      "7\n",
      "8\n",
      "9\n",
      "10\n",
      "11\n",
      "epoch 3 \t\t loss: 1.460 \t train: 0.225 \t val: 0.328\n"
     ]
    }
   ],
   "source": [
    "train_data = na.NsynthDataset(source='train')\n",
    "train_data.initialize()\n",
    "dl = train_data.get_dataloader(64)\n",
    "\n",
    "val_data = na.NsynthDataset(source='validate')\n",
    "val_data.initialize(code_lookup=train_data.code_lookup)\n",
    "dl_val = val_data.get_dataloader(64)\n",
    "\n",
    "\n",
    "clf = cnn_model.CnnClf(len(train_data.codes), (128, 71))\n",
    "clf, losses, train_accuracies, val_accuracies = train_model.train_model_dataloader(clf, dl, dl_val, epochs=10)"
   ]
  },
  {
   "cell_type": "code",
   "execution_count": null,
   "id": "31c93ecf",
   "metadata": {},
   "outputs": [],
   "source": [
    "fig, ax = plt.subplots()\n",
    "ax.plot(losses)\n",
    "fig, ax = plt.subplots()\n",
    "ax.plot(train_accuracies, label='train')\n",
    "ax.plot(val_accuracies, label='val')\n",
    "ax.legend()\n",
    "plt.show()"
   ]
  }
 ],
 "metadata": {
  "kernelspec": {
   "display_name": "Python 3 (ipykernel)",
   "language": "python",
   "name": "python3"
  },
  "language_info": {
   "codemirror_mode": {
    "name": "ipython",
    "version": 3
   },
   "file_extension": ".py",
   "mimetype": "text/x-python",
   "name": "python",
   "nbconvert_exporter": "python",
   "pygments_lexer": "ipython3",
   "version": "3.8.5"
  }
 },
 "nbformat": 4,
 "nbformat_minor": 5
}
