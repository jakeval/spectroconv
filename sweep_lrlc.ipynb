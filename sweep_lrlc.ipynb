{
 "cells": [
  {
   "cell_type": "code",
   "execution_count": null,
   "id": "ca2dc0ba",
   "metadata": {
    "id": "ca2dc0ba"
   },
   "outputs": [],
   "source": [
    "%load_ext autoreload\n",
    "%autoreload 2"
   ]
  },
  {
   "cell_type": "code",
   "execution_count": null,
   "id": "349a614a",
   "metadata": {
    "id": "349a614a"
   },
   "outputs": [],
   "source": [
    "# ENABLE IF USING COLAB\n",
    "USE_COLAB = True\n",
    "\n",
    "if USE_COLAB:\n",
    "    import os\n",
    "    import shutil\n",
    "    if os.path.exists('/content/spectroconv/'):\n",
    "        shutil.rmtree('/content/spectroconv/') #deletes a directory and all its contents.\n",
    "    !git clone https://github.com/jakeval/spectroconv.git\n",
    "    !pip install hub\n",
    "    !pip install hub[audio]\n",
    "    !pip install wandb\n",
    "    import sys\n",
    "    sys.path.insert(0,'/content/spectroconv')"
   ]
  },
  {
   "cell_type": "code",
   "execution_count": null,
   "id": "hu_JdznXfTy-",
   "metadata": {
    "id": "hu_JdznXfTy-"
   },
   "outputs": [],
   "source": [
    "import torch\n",
    "gpu_info = !nvidia-smi\n",
    "gpu_info = '\\n'.join(gpu_info)\n",
    "if gpu_info.find('failed') >= 0:\n",
    "  print('Not connected to a GPU')\n",
    "else:\n",
    "  print(gpu_info)\n"
   ]
  },
  {
   "cell_type": "code",
   "execution_count": null,
   "id": "hyoiAYPF6Ly4",
   "metadata": {
    "id": "hyoiAYPF6Ly4"
   },
   "outputs": [],
   "source": [
    "from models import wb_experiment"
   ]
  },
  {
   "cell_type": "code",
   "execution_count": null,
   "id": "n3C00cze6_Fo",
   "metadata": {
    "id": "n3C00cze6_Fo"
   },
   "outputs": [],
   "source": [
    "n_mels = 128\n",
    "\n",
    "config = {\n",
    "  'data': {\n",
    "    'train': {\n",
    "        'name': f\"nsynth-full-{n_mels}-train\"\n",
    "    },\n",
    "    'val': {\n",
    "        'name': f\"nsynth-full-{n_mels}-val\"\n",
    "    }\n",
    "  },\n",
    "  'group': 'lrlc',\n",
    "  'job_type': 'sweep',\n",
    "  'model': {\n",
    "      'id': wb_experiment.ModelType.LRLC,\n",
    "      'name': 'LRLC'\n",
    "  },\n",
    "}\n",
    "\n",
    "# wandb's sweep config must be exact, no additional dictionary values are allowed.\n",
    "wb_sweep_config = {\n",
    "    'name': 'lrlc-sweep',\n",
    "    'project': 'spectroconv-debug',\n",
    "    'entity': 'jakeval-colab',\n",
    "    'method': 'random',\n",
    "    'metric': {\n",
    "      'name': 'f1',\n",
    "      'goal': 'maximize'\n",
    "    },\n",
    "    'parameters': {\n",
    "      'local_dim': {\n",
    "          'value': None\n",
    "      },\n",
    "      'kernel_size': {\n",
    "          'value': 3\n",
    "      },\n",
    "      'num_channels': {\n",
    "          'value': 32\n",
    "      },\n",
    "      'num_conv_layers': {\n",
    "          'value': 3\n",
    "      },\n",
    "      'linear_layer_size': {\n",
    "          'value': 1024\n",
    "      },\n",
    "      'learning_rate': {\n",
    "          'value': 0.0001\n",
    "      },\n",
    "      'dropout': {# probability of an element to be zeroed (0 = no dropout)\n",
    "          'value': 0.25\n",
    "      },\n",
    "      'l2_reg': {\n",
    "          'value': 0, # trying out no l2 regularizer\n",
    "          #'distribution': 'log_uniform_values',\n",
    "          #'min': 0.0000001,\n",
    "          #'max': 0.01,\n",
    "      },\n",
    "      'optimizer': {\n",
    "          'value': 'adam'\n",
    "      },\n",
    "      'epochs': {\n",
    "          'value': 2\n",
    "      },\n",
    "      'batch_size': {\n",
    "          'value': 124\n",
    "          #'distribution': 'q_log_uniform_values',\n",
    "          #'q': 4,\n",
    "          #'min': 72,\n",
    "          #'max': 128,\n",
    "      },\n",
    "      'linear_reg': {\n",
    "          'value': False\n",
    "      },\n",
    "      'rank': {\n",
    "          'distribution': 'int_uniform',\n",
    "          'min': 1,\n",
    "          'max': 64,\n",
    "      },\n",
    "      'lcw': {\n",
    "          'value': True\n",
    "      },\n",
    "      'low_dim': {\n",
    "          32\n",
    "      },\n",
    "      'lrlc_channels': {\n",
    "          'value': 128\n",
    "      }\n",
    "    }\n",
    "}\n",
    "\n",
    "config['sweep_config'] = wb_sweep_config"
   ]
  },
  {
   "cell_type": "code",
   "execution_count": null,
   "id": "VYMHkNLAR0Ib",
   "metadata": {
    "id": "VYMHkNLAR0Ib"
   },
   "outputs": [],
   "source": [
    "sweeper = wb_experiment.SweepExperiment(wb_config=config, login_key=False)\n",
    "sweeper.run_sweep(iterations = 30, save_all = False)"
   ]
  }
 ],
 "metadata": {
  "accelerator": "GPU",
  "colab": {
   "collapsed_sections": [],
   "name": "sweep_lc.ipynb",
   "provenance": []
  },
  "kernelspec": {
   "display_name": "Python 3 (ipykernel)",
   "language": "python",
   "name": "python3"
  },
  "language_info": {
   "codemirror_mode": {
    "name": "ipython",
    "version": 3
   },
   "file_extension": ".py",
   "mimetype": "text/x-python",
   "name": "python",
   "nbconvert_exporter": "python",
   "pygments_lexer": "ipython3",
   "version": "3.8.5"
  }
 },
 "nbformat": 4,
 "nbformat_minor": 5
}
