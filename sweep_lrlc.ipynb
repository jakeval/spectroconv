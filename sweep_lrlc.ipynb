{
 "cells": [
  {
   "cell_type": "code",
   "execution_count": 1,
   "id": "ca2dc0ba",
   "metadata": {
    "id": "ca2dc0ba"
   },
   "outputs": [],
   "source": [
    "%load_ext autoreload\n",
    "%autoreload 2"
   ]
  },
  {
   "cell_type": "code",
   "execution_count": 2,
   "id": "349a614a",
   "metadata": {
    "id": "349a614a"
   },
   "outputs": [
    {
     "name": "stdout",
     "output_type": "stream",
     "text": [
      "Cloning into 'spectroconv'...\n",
      "remote: Enumerating objects: 413, done.\u001b[K\n",
      "remote: Counting objects: 100% (62/62), done.\u001b[K\n",
      "remote: Compressing objects: 100% (45/45), done.\u001b[K\n",
      "^Cceiving objects:  82% (339/413), 7.87 MiB | 2.61 MiB/s\n",
      "Requirement already satisfied: hub in ./.env/lib/python3.8/site-packages (2.3.2)\n",
      "Requirement already satisfied: humbug>=0.2.6 in ./.env/lib/python3.8/site-packages (from hub) (0.2.7)\n",
      "Requirement already satisfied: numpy in ./.env/lib/python3.8/site-packages (from hub) (1.21.0)\n",
      "Requirement already satisfied: numcodecs in ./.env/lib/python3.8/site-packages (from hub) (0.9.1)\n",
      "Requirement already satisfied: pathos in ./.env/lib/python3.8/site-packages (from hub) (0.2.8)\n",
      "Requirement already satisfied: tqdm in ./.env/lib/python3.8/site-packages (from hub) (4.64.0)\n",
      "Requirement already satisfied: pillow in ./.env/lib/python3.8/site-packages (from hub) (9.1.0)\n",
      "Requirement already satisfied: boto3 in ./.env/lib/python3.8/site-packages (from hub) (1.21.33)\n",
      "Requirement already satisfied: click in ./.env/lib/python3.8/site-packages (from hub) (8.1.2)\n",
      "Requirement already satisfied: requests in ./.env/lib/python3.8/site-packages (from humbug>=0.2.6->hub) (2.22.0)\n",
      "Requirement already satisfied: pox>=0.3.0 in ./.env/lib/python3.8/site-packages (from pathos->hub) (0.3.0)\n",
      "Requirement already satisfied: ppft>=1.6.6.4 in ./.env/lib/python3.8/site-packages (from pathos->hub) (1.6.6.4)\n",
      "Requirement already satisfied: multiprocess>=0.70.12 in ./.env/lib/python3.8/site-packages (from pathos->hub) (0.70.12.2)\n",
      "Requirement already satisfied: dill>=0.3.4 in ./.env/lib/python3.8/site-packages (from pathos->hub) (0.3.4)\n",
      "Requirement already satisfied: s3transfer<0.6.0,>=0.5.0 in ./.env/lib/python3.8/site-packages (from boto3->hub) (0.5.2)\n",
      "Requirement already satisfied: jmespath<2.0.0,>=0.7.1 in ./.env/lib/python3.8/site-packages (from boto3->hub) (1.0.0)\n",
      "Requirement already satisfied: botocore<1.25.0,>=1.24.33 in ./.env/lib/python3.8/site-packages (from boto3->hub) (1.24.33)\n",
      "Requirement already satisfied: six>=1.7.3 in ./.env/lib/python3.8/site-packages (from ppft>=1.6.6.4->pathos->hub) (1.14.0)\n",
      "Requirement already satisfied: python-dateutil<3.0.0,>=2.1 in ./.env/lib/python3.8/site-packages (from botocore<1.25.0,>=1.24.33->boto3->hub) (2.8.2)\n",
      "Requirement already satisfied: urllib3<1.27,>=1.25.4 in ./.env/lib/python3.8/site-packages (from botocore<1.25.0,>=1.24.33->boto3->hub) (1.25.8)\n",
      "Requirement already satisfied: hub[audio] in ./.env/lib/python3.8/site-packages (2.3.2)\n",
      "Requirement already satisfied: click in ./.env/lib/python3.8/site-packages (from hub[audio]) (8.1.2)\n",
      "Requirement already satisfied: humbug>=0.2.6 in ./.env/lib/python3.8/site-packages (from hub[audio]) (0.2.7)\n",
      "Requirement already satisfied: numcodecs in ./.env/lib/python3.8/site-packages (from hub[audio]) (0.9.1)\n",
      "Requirement already satisfied: tqdm in ./.env/lib/python3.8/site-packages (from hub[audio]) (4.64.0)\n",
      "Requirement already satisfied: numpy in ./.env/lib/python3.8/site-packages (from hub[audio]) (1.21.0)\n",
      "Requirement already satisfied: pillow in ./.env/lib/python3.8/site-packages (from hub[audio]) (9.1.0)\n",
      "Requirement already satisfied: boto3 in ./.env/lib/python3.8/site-packages (from hub[audio]) (1.21.33)\n",
      "Requirement already satisfied: pathos in ./.env/lib/python3.8/site-packages (from hub[audio]) (0.2.8)\n",
      "Requirement already satisfied: miniaudio~=1.44; extra == \"audio\" in ./.env/lib/python3.8/site-packages (from hub[audio]) (1.46)\n",
      "Requirement already satisfied: requests in ./.env/lib/python3.8/site-packages (from humbug>=0.2.6->hub[audio]) (2.22.0)\n",
      "Requirement already satisfied: botocore<1.25.0,>=1.24.33 in ./.env/lib/python3.8/site-packages (from boto3->hub[audio]) (1.24.33)\n",
      "Requirement already satisfied: s3transfer<0.6.0,>=0.5.0 in ./.env/lib/python3.8/site-packages (from boto3->hub[audio]) (0.5.2)\n",
      "Requirement already satisfied: jmespath<2.0.0,>=0.7.1 in ./.env/lib/python3.8/site-packages (from boto3->hub[audio]) (1.0.0)\n",
      "Requirement already satisfied: pox>=0.3.0 in ./.env/lib/python3.8/site-packages (from pathos->hub[audio]) (0.3.0)\n",
      "Requirement already satisfied: multiprocess>=0.70.12 in ./.env/lib/python3.8/site-packages (from pathos->hub[audio]) (0.70.12.2)\n",
      "Requirement already satisfied: ppft>=1.6.6.4 in ./.env/lib/python3.8/site-packages (from pathos->hub[audio]) (1.6.6.4)\n",
      "Requirement already satisfied: dill>=0.3.4 in ./.env/lib/python3.8/site-packages (from pathos->hub[audio]) (0.3.4)\n",
      "Requirement already satisfied: cffi>=1.12.0 in ./.env/lib/python3.8/site-packages (from miniaudio~=1.44; extra == \"audio\"->hub[audio]) (1.15.0)\n",
      "Requirement already satisfied: urllib3<1.27,>=1.25.4 in ./.env/lib/python3.8/site-packages (from botocore<1.25.0,>=1.24.33->boto3->hub[audio]) (1.25.8)\n",
      "Requirement already satisfied: python-dateutil<3.0.0,>=2.1 in ./.env/lib/python3.8/site-packages (from botocore<1.25.0,>=1.24.33->boto3->hub[audio]) (2.8.2)\n",
      "Requirement already satisfied: six>=1.7.3 in ./.env/lib/python3.8/site-packages (from ppft>=1.6.6.4->pathos->hub[audio]) (1.14.0)\n",
      "Requirement already satisfied: pycparser in ./.env/lib/python3.8/site-packages (from cffi>=1.12.0->miniaudio~=1.44; extra == \"audio\"->hub[audio]) (2.21)\n",
      "Requirement already satisfied: wandb in ./.env/lib/python3.8/site-packages (0.12.14)\n",
      "Requirement already satisfied: docker-pycreds>=0.4.0 in ./.env/lib/python3.8/site-packages (from wandb) (0.4.0)\n",
      "Requirement already satisfied: setproctitle in ./.env/lib/python3.8/site-packages (from wandb) (1.2.3)\n",
      "Requirement already satisfied: shortuuid>=0.5.0 in ./.env/lib/python3.8/site-packages (from wandb) (1.0.8)\n",
      "Requirement already satisfied: Click!=8.0.0,>=7.0 in ./.env/lib/python3.8/site-packages (from wandb) (8.1.2)\n",
      "Requirement already satisfied: protobuf>=3.12.0 in ./.env/lib/python3.8/site-packages (from wandb) (3.20.0)\n",
      "Requirement already satisfied: requests<3,>=2.0.0 in ./.env/lib/python3.8/site-packages (from wandb) (2.22.0)\n",
      "Requirement already satisfied: six>=1.13.0 in ./.env/lib/python3.8/site-packages (from wandb) (1.14.0)\n",
      "Requirement already satisfied: PyYAML in ./.env/lib/python3.8/site-packages (from wandb) (6.0)\n",
      "Requirement already satisfied: python-dateutil>=2.6.1 in ./.env/lib/python3.8/site-packages (from wandb) (2.8.2)\n",
      "Requirement already satisfied: GitPython>=1.0.0 in ./.env/lib/python3.8/site-packages (from wandb) (3.1.27)\n",
      "Requirement already satisfied: pathtools in ./.env/lib/python3.8/site-packages (from wandb) (0.1.2)\n",
      "Requirement already satisfied: psutil>=5.0.0 in ./.env/lib/python3.8/site-packages (from wandb) (5.9.0)\n",
      "Requirement already satisfied: sentry-sdk>=1.0.0 in ./.env/lib/python3.8/site-packages (from wandb) (1.5.10)\n",
      "Requirement already satisfied: promise<3,>=2.0 in ./.env/lib/python3.8/site-packages (from wandb) (2.3)\n",
      "Requirement already satisfied: gitdb<5,>=4.0.1 in ./.env/lib/python3.8/site-packages (from GitPython>=1.0.0->wandb) (4.0.9)\n",
      "Requirement already satisfied: urllib3>=1.10.0 in ./.env/lib/python3.8/site-packages (from sentry-sdk>=1.0.0->wandb) (1.25.8)\n",
      "Requirement already satisfied: certifi in ./.env/lib/python3.8/site-packages (from sentry-sdk>=1.0.0->wandb) (2019.11.28)\n",
      "Requirement already satisfied: smmap<6,>=3.0.1 in ./.env/lib/python3.8/site-packages (from gitdb<5,>=4.0.1->GitPython>=1.0.0->wandb) (5.0.0)\n",
      "^C\n",
      "\u001b[31mERROR: Operation cancelled by user\u001b[0m\n"
     ]
    }
   ],
   "source": [
    "# ENABLE IF USING COLAB\n",
    "USE_COLAB = True\n",
    "\n",
    "if USE_COLAB:\n",
    "    import os\n",
    "    import shutil\n",
    "    if os.path.exists('/content/spectroconv/'):\n",
    "        shutil.rmtree('/content/spectroconv/') #deletes a directory and all its contents.\n",
    "    !git clone https://github.com/jakeval/spectroconv.git\n",
    "    !pip install hub\n",
    "    !pip install hub[audio]\n",
    "    !pip install wandb\n",
    "    import sys\n",
    "    sys.path.insert(0,'/content/spectroconv')"
   ]
  },
  {
   "cell_type": "code",
   "execution_count": null,
   "id": "hu_JdznXfTy-",
   "metadata": {
    "id": "hu_JdznXfTy-"
   },
   "outputs": [],
   "source": [
    "import torch\n",
    "gpu_info = !nvidia-smi\n",
    "gpu_info = '\\n'.join(gpu_info)\n",
    "if gpu_info.find('failed') >= 0:\n",
    "  print('Not connected to a GPU')\n",
    "else:\n",
    "  print(gpu_info)\n"
   ]
  },
  {
   "cell_type": "code",
   "execution_count": 3,
   "id": "hyoiAYPF6Ly4",
   "metadata": {
    "id": "hyoiAYPF6Ly4"
   },
   "outputs": [],
   "source": [
    "from models import wb_experiment"
   ]
  },
  {
   "cell_type": "code",
   "execution_count": 4,
   "id": "n3C00cze6_Fo",
   "metadata": {
    "id": "n3C00cze6_Fo"
   },
   "outputs": [],
   "source": [
    "n_mels = 128\n",
    "\n",
    "config = {\n",
    "  'data': {\n",
    "    'train': {\n",
    "        'name': f\"nsynth-full-{n_mels}-train\"\n",
    "    },\n",
    "    'val': {\n",
    "        'name': f\"nsynth-full-{n_mels}-val\"\n",
    "    }\n",
    "  },\n",
    "  'group': 'lrlc',\n",
    "  'job_type': 'sweep',\n",
    "  'model': {\n",
    "      'id': wb_experiment.ModelType.LRLC,\n",
    "      'name': 'LRLC'\n",
    "  },\n",
    "}\n",
    "\n",
    "# wandb's sweep config must be exact, no additional dictionary values are allowed.\n",
    "wb_sweep_config = {\n",
    "    'name': 'lrlc-sweep',\n",
    "    'project': 'spectroconv-debug',\n",
    "    'entity': 'jakeval-colab',\n",
    "    'method': 'random',\n",
    "    'metric': {\n",
    "      'name': 'f1',\n",
    "      'goal': 'maximize'\n",
    "    },\n",
    "    'parameters': {\n",
    "      'local_dim': {\n",
    "          'value': None\n",
    "      },\n",
    "      'kernel_size': {\n",
    "          'value': 3\n",
    "      },\n",
    "      'num_channels': {\n",
    "          'value': 32\n",
    "      },\n",
    "      'num_conv_layers': {\n",
    "          'value': 3\n",
    "      },\n",
    "      'linear_layer_size': {\n",
    "          'value': 1024\n",
    "      },\n",
    "      'learning_rate': {\n",
    "          'value': 0.0001\n",
    "      },\n",
    "      'dropout': {# probability of an element to be zeroed (0 = no dropout)\n",
    "          'value': 0.25\n",
    "      },\n",
    "      'l2_reg': {\n",
    "          'value': 0, # trying out no l2 regularizer\n",
    "          #'distribution': 'log_uniform_values',\n",
    "          #'min': 0.0000001,\n",
    "          #'max': 0.01,\n",
    "      },\n",
    "      'optimizer': {\n",
    "          'value': 'adam'\n",
    "      },\n",
    "      'epochs': {\n",
    "          'value': 2\n",
    "      },\n",
    "      'batch_size': {\n",
    "          'value': 124\n",
    "          #'distribution': 'q_log_uniform_values',\n",
    "          #'q': 4,\n",
    "          #'min': 72,\n",
    "          #'max': 128,\n",
    "      },\n",
    "      'linear_reg': {\n",
    "          'value': False\n",
    "      },\n",
    "      'rank': {\n",
    "          'distribution': 'int_uniform',\n",
    "          'min': 1,\n",
    "          'max': 64,\n",
    "      },\n",
    "      'lcw': {\n",
    "          'value': True\n",
    "      },\n",
    "      'low_dim': {\n",
    "          32\n",
    "      },\n",
    "      'lrlc_channels': {\n",
    "          'value': 128\n",
    "      }\n",
    "    }\n",
    "}\n",
    "\n",
    "config['sweep_config'] = wb_sweep_config"
   ]
  },
  {
   "cell_type": "code",
   "execution_count": 5,
   "id": "VYMHkNLAR0Ib",
   "metadata": {
    "id": "VYMHkNLAR0Ib"
   },
   "outputs": [
    {
     "name": "stderr",
     "output_type": "stream",
     "text": [
      "\u001b[34m\u001b[1mwandb\u001b[0m: Currently logged in as: \u001b[33mjakeval-colab\u001b[0m (use `wandb login --relogin` to force relogin)\n"
     ]
    },
    {
     "name": "stdout",
     "output_type": "stream",
     "text": [
      "400 response executing GraphQL.\n",
      "{\"errors\":[{\"message\":\"400 Bad Request: The browser (or proxy) sent a request that this server could not understand.\",\"path\":[\"upsertSweep\"]}],\"data\":{\"upsertSweep\":null}}\n"
     ]
    },
    {
     "name": "stderr",
     "output_type": "stream",
     "text": [
      "\u001b[34m\u001b[1mwandb\u001b[0m: \u001b[32m\u001b[41mERROR\u001b[0m Error while calling W&B API: 400 Bad Request: The browser (or proxy) sent a request that this server could not understand. (<Response [400]>)\n"
     ]
    },
    {
     "ename": "CommError",
     "evalue": "400 Bad Request: The browser (or proxy) sent a request that this server could not understand.",
     "output_type": "error",
     "traceback": [
      "\u001b[0;31m---------------------------------------------------------------------------\u001b[0m",
      "\u001b[0;31mHTTPError\u001b[0m                                 Traceback (most recent call last)",
      "File \u001b[0;32m~/umass/682/project/spectroconv/.env/lib/python3.8/site-packages/wandb/sdk/lib/retry.py:102\u001b[0m, in \u001b[0;36mRetry.__call__\u001b[0;34m(self, *args, **kwargs)\u001b[0m\n\u001b[1;32m    101\u001b[0m \u001b[38;5;28;01mtry\u001b[39;00m:\n\u001b[0;32m--> 102\u001b[0m     result \u001b[38;5;241m=\u001b[39m \u001b[38;5;28;43mself\u001b[39;49m\u001b[38;5;241;43m.\u001b[39;49m\u001b[43m_call_fn\u001b[49m\u001b[43m(\u001b[49m\u001b[38;5;241;43m*\u001b[39;49m\u001b[43margs\u001b[49m\u001b[43m,\u001b[49m\u001b[43m \u001b[49m\u001b[38;5;241;43m*\u001b[39;49m\u001b[38;5;241;43m*\u001b[39;49m\u001b[43mkwargs\u001b[49m\u001b[43m)\u001b[49m\n\u001b[1;32m    103\u001b[0m     \u001b[38;5;66;03m# Only print resolved attempts once every minute\u001b[39;00m\n",
      "File \u001b[0;32m~/umass/682/project/spectroconv/.env/lib/python3.8/site-packages/wandb/sdk/internal/internal_api.py:147\u001b[0m, in \u001b[0;36mApi.execute\u001b[0;34m(self, *args, **kwargs)\u001b[0m\n\u001b[1;32m    146\u001b[0m \u001b[38;5;28mself\u001b[39m\u001b[38;5;241m.\u001b[39mdisplay_gorilla_error_if_found(res)\n\u001b[0;32m--> 147\u001b[0m \u001b[43msix\u001b[49m\u001b[38;5;241;43m.\u001b[39;49m\u001b[43mreraise\u001b[49m\u001b[43m(\u001b[49m\u001b[38;5;241;43m*\u001b[39;49m\u001b[43msys\u001b[49m\u001b[38;5;241;43m.\u001b[39;49m\u001b[43mexc_info\u001b[49m\u001b[43m(\u001b[49m\u001b[43m)\u001b[49m\u001b[43m)\u001b[49m\n",
      "File \u001b[0;32m~/umass/682/project/spectroconv/.env/lib/python3.8/site-packages/six.py:703\u001b[0m, in \u001b[0;36mreraise\u001b[0;34m(tp, value, tb)\u001b[0m\n\u001b[1;32m    702\u001b[0m         \u001b[38;5;28;01mraise\u001b[39;00m value\u001b[38;5;241m.\u001b[39mwith_traceback(tb)\n\u001b[0;32m--> 703\u001b[0m     \u001b[38;5;28;01mraise\u001b[39;00m value\n\u001b[1;32m    704\u001b[0m \u001b[38;5;28;01mfinally\u001b[39;00m:\n",
      "File \u001b[0;32m~/umass/682/project/spectroconv/.env/lib/python3.8/site-packages/wandb/sdk/internal/internal_api.py:141\u001b[0m, in \u001b[0;36mApi.execute\u001b[0;34m(self, *args, **kwargs)\u001b[0m\n\u001b[1;32m    140\u001b[0m \u001b[38;5;28;01mtry\u001b[39;00m:\n\u001b[0;32m--> 141\u001b[0m     \u001b[38;5;28;01mreturn\u001b[39;00m \u001b[38;5;28;43mself\u001b[39;49m\u001b[38;5;241;43m.\u001b[39;49m\u001b[43mclient\u001b[49m\u001b[38;5;241;43m.\u001b[39;49m\u001b[43mexecute\u001b[49m\u001b[43m(\u001b[49m\u001b[38;5;241;43m*\u001b[39;49m\u001b[43margs\u001b[49m\u001b[43m,\u001b[49m\u001b[43m \u001b[49m\u001b[38;5;241;43m*\u001b[39;49m\u001b[38;5;241;43m*\u001b[39;49m\u001b[43mkwargs\u001b[49m\u001b[43m)\u001b[49m\n\u001b[1;32m    142\u001b[0m \u001b[38;5;28;01mexcept\u001b[39;00m requests\u001b[38;5;241m.\u001b[39mexceptions\u001b[38;5;241m.\u001b[39mHTTPError \u001b[38;5;28;01mas\u001b[39;00m err:\n",
      "File \u001b[0;32m~/umass/682/project/spectroconv/.env/lib/python3.8/site-packages/wandb/vendor/gql-0.2.0/wandb_gql/client.py:52\u001b[0m, in \u001b[0;36mClient.execute\u001b[0;34m(self, document, *args, **kwargs)\u001b[0m\n\u001b[1;32m     50\u001b[0m     \u001b[38;5;28mself\u001b[39m\u001b[38;5;241m.\u001b[39mvalidate(document)\n\u001b[0;32m---> 52\u001b[0m result \u001b[38;5;241m=\u001b[39m \u001b[38;5;28;43mself\u001b[39;49m\u001b[38;5;241;43m.\u001b[39;49m\u001b[43m_get_result\u001b[49m\u001b[43m(\u001b[49m\u001b[43mdocument\u001b[49m\u001b[43m,\u001b[49m\u001b[43m \u001b[49m\u001b[38;5;241;43m*\u001b[39;49m\u001b[43margs\u001b[49m\u001b[43m,\u001b[49m\u001b[43m \u001b[49m\u001b[38;5;241;43m*\u001b[39;49m\u001b[38;5;241;43m*\u001b[39;49m\u001b[43mkwargs\u001b[49m\u001b[43m)\u001b[49m\n\u001b[1;32m     53\u001b[0m \u001b[38;5;28;01mif\u001b[39;00m result\u001b[38;5;241m.\u001b[39merrors:\n",
      "File \u001b[0;32m~/umass/682/project/spectroconv/.env/lib/python3.8/site-packages/wandb/vendor/gql-0.2.0/wandb_gql/client.py:60\u001b[0m, in \u001b[0;36mClient._get_result\u001b[0;34m(self, document, *args, **kwargs)\u001b[0m\n\u001b[1;32m     59\u001b[0m \u001b[38;5;28;01mif\u001b[39;00m \u001b[38;5;129;01mnot\u001b[39;00m \u001b[38;5;28mself\u001b[39m\u001b[38;5;241m.\u001b[39mretries:\n\u001b[0;32m---> 60\u001b[0m     \u001b[38;5;28;01mreturn\u001b[39;00m \u001b[38;5;28;43mself\u001b[39;49m\u001b[38;5;241;43m.\u001b[39;49m\u001b[43mtransport\u001b[49m\u001b[38;5;241;43m.\u001b[39;49m\u001b[43mexecute\u001b[49m\u001b[43m(\u001b[49m\u001b[43mdocument\u001b[49m\u001b[43m,\u001b[49m\u001b[43m \u001b[49m\u001b[38;5;241;43m*\u001b[39;49m\u001b[43margs\u001b[49m\u001b[43m,\u001b[49m\u001b[43m \u001b[49m\u001b[38;5;241;43m*\u001b[39;49m\u001b[38;5;241;43m*\u001b[39;49m\u001b[43mkwargs\u001b[49m\u001b[43m)\u001b[49m\n\u001b[1;32m     62\u001b[0m last_exception \u001b[38;5;241m=\u001b[39m \u001b[38;5;28;01mNone\u001b[39;00m\n",
      "File \u001b[0;32m~/umass/682/project/spectroconv/.env/lib/python3.8/site-packages/wandb/vendor/gql-0.2.0/wandb_gql/transport/requests.py:39\u001b[0m, in \u001b[0;36mRequestsHTTPTransport.execute\u001b[0;34m(self, document, variable_values, timeout)\u001b[0m\n\u001b[1;32m     38\u001b[0m request \u001b[38;5;241m=\u001b[39m requests\u001b[38;5;241m.\u001b[39mpost(\u001b[38;5;28mself\u001b[39m\u001b[38;5;241m.\u001b[39murl, \u001b[38;5;241m*\u001b[39m\u001b[38;5;241m*\u001b[39mpost_args)\n\u001b[0;32m---> 39\u001b[0m \u001b[43mrequest\u001b[49m\u001b[38;5;241;43m.\u001b[39;49m\u001b[43mraise_for_status\u001b[49m\u001b[43m(\u001b[49m\u001b[43m)\u001b[49m\n\u001b[1;32m     41\u001b[0m result \u001b[38;5;241m=\u001b[39m request\u001b[38;5;241m.\u001b[39mjson()\n",
      "File \u001b[0;32m~/umass/682/project/spectroconv/.env/lib/python3.8/site-packages/requests/models.py:940\u001b[0m, in \u001b[0;36mResponse.raise_for_status\u001b[0;34m(self)\u001b[0m\n\u001b[1;32m    939\u001b[0m \u001b[38;5;28;01mif\u001b[39;00m http_error_msg:\n\u001b[0;32m--> 940\u001b[0m     \u001b[38;5;28;01mraise\u001b[39;00m HTTPError(http_error_msg, response\u001b[38;5;241m=\u001b[39m\u001b[38;5;28mself\u001b[39m)\n",
      "\u001b[0;31mHTTPError\u001b[0m: 400 Client Error: Bad Request for url: https://api.wandb.ai/graphql",
      "\nDuring handling of the above exception, another exception occurred:\n",
      "\u001b[0;31mUsageError\u001b[0m                                Traceback (most recent call last)",
      "File \u001b[0;32m~/umass/682/project/spectroconv/.env/lib/python3.8/site-packages/wandb/apis/normalize.py:24\u001b[0m, in \u001b[0;36mnormalize_exceptions.<locals>.wrapper\u001b[0;34m(*args, **kwargs)\u001b[0m\n\u001b[1;32m     23\u001b[0m \u001b[38;5;28;01mtry\u001b[39;00m:\n\u001b[0;32m---> 24\u001b[0m     \u001b[38;5;28;01mreturn\u001b[39;00m \u001b[43mfunc\u001b[49m\u001b[43m(\u001b[49m\u001b[38;5;241;43m*\u001b[39;49m\u001b[43margs\u001b[49m\u001b[43m,\u001b[49m\u001b[43m \u001b[49m\u001b[38;5;241;43m*\u001b[39;49m\u001b[38;5;241;43m*\u001b[39;49m\u001b[43mkwargs\u001b[49m\u001b[43m)\u001b[49m\n\u001b[1;32m     25\u001b[0m \u001b[38;5;28;01mexcept\u001b[39;00m requests\u001b[38;5;241m.\u001b[39mHTTPError \u001b[38;5;28;01mas\u001b[39;00m err:\n",
      "File \u001b[0;32m~/umass/682/project/spectroconv/.env/lib/python3.8/site-packages/wandb/sdk/internal/internal_api.py:1906\u001b[0m, in \u001b[0;36mApi.upsert_sweep\u001b[0;34m(self, config, controller, scheduler, obj_id, project, entity, state)\u001b[0m\n\u001b[1;32m   1905\u001b[0m \u001b[38;5;28;01mexcept\u001b[39;00m UsageError \u001b[38;5;28;01mas\u001b[39;00m e:\n\u001b[0;32m-> 1906\u001b[0m     \u001b[38;5;28;01mraise\u001b[39;00m (e)\n\u001b[1;32m   1907\u001b[0m \u001b[38;5;28;01mexcept\u001b[39;00m \u001b[38;5;167;01mException\u001b[39;00m \u001b[38;5;28;01mas\u001b[39;00m e:\n\u001b[1;32m   1908\u001b[0m     \u001b[38;5;66;03m# graphql schema exception is generic\u001b[39;00m\n",
      "File \u001b[0;32m~/umass/682/project/spectroconv/.env/lib/python3.8/site-packages/wandb/sdk/internal/internal_api.py:1892\u001b[0m, in \u001b[0;36mApi.upsert_sweep\u001b[0;34m(self, config, controller, scheduler, obj_id, project, entity, state)\u001b[0m\n\u001b[1;32m   1891\u001b[0m \u001b[38;5;28;01mtry\u001b[39;00m:\n\u001b[0;32m-> 1892\u001b[0m     response \u001b[38;5;241m=\u001b[39m \u001b[38;5;28;43mself\u001b[39;49m\u001b[38;5;241;43m.\u001b[39;49m\u001b[43mgql\u001b[49m\u001b[43m(\u001b[49m\n\u001b[1;32m   1893\u001b[0m \u001b[43m        \u001b[49m\u001b[43mmutation\u001b[49m\u001b[43m,\u001b[49m\n\u001b[1;32m   1894\u001b[0m \u001b[43m        \u001b[49m\u001b[43mvariable_values\u001b[49m\u001b[38;5;241;43m=\u001b[39;49m\u001b[43m{\u001b[49m\n\u001b[1;32m   1895\u001b[0m \u001b[43m            \u001b[49m\u001b[38;5;124;43m\"\u001b[39;49m\u001b[38;5;124;43mid\u001b[39;49m\u001b[38;5;124;43m\"\u001b[39;49m\u001b[43m:\u001b[49m\u001b[43m \u001b[49m\u001b[43mobj_id\u001b[49m\u001b[43m,\u001b[49m\n\u001b[1;32m   1896\u001b[0m \u001b[43m            \u001b[49m\u001b[38;5;124;43m\"\u001b[39;49m\u001b[38;5;124;43mconfig\u001b[39;49m\u001b[38;5;124;43m\"\u001b[39;49m\u001b[43m:\u001b[49m\u001b[43m \u001b[49m\u001b[43myaml\u001b[49m\u001b[38;5;241;43m.\u001b[39;49m\u001b[43mdump\u001b[49m\u001b[43m(\u001b[49m\u001b[43mconfig\u001b[49m\u001b[43m)\u001b[49m\u001b[43m,\u001b[49m\n\u001b[1;32m   1897\u001b[0m \u001b[43m            \u001b[49m\u001b[38;5;124;43m\"\u001b[39;49m\u001b[38;5;124;43mdescription\u001b[39;49m\u001b[38;5;124;43m\"\u001b[39;49m\u001b[43m:\u001b[49m\u001b[43m \u001b[49m\u001b[43mconfig\u001b[49m\u001b[38;5;241;43m.\u001b[39;49m\u001b[43mget\u001b[49m\u001b[43m(\u001b[49m\u001b[38;5;124;43m\"\u001b[39;49m\u001b[38;5;124;43mdescription\u001b[39;49m\u001b[38;5;124;43m\"\u001b[39;49m\u001b[43m)\u001b[49m\u001b[43m,\u001b[49m\n\u001b[1;32m   1898\u001b[0m \u001b[43m            \u001b[49m\u001b[38;5;124;43m\"\u001b[39;49m\u001b[38;5;124;43mentityName\u001b[39;49m\u001b[38;5;124;43m\"\u001b[39;49m\u001b[43m:\u001b[49m\u001b[43m \u001b[49m\u001b[43mentity\u001b[49m\u001b[43m \u001b[49m\u001b[38;5;129;43;01mor\u001b[39;49;00m\u001b[43m \u001b[49m\u001b[38;5;28;43mself\u001b[39;49m\u001b[38;5;241;43m.\u001b[39;49m\u001b[43msettings\u001b[49m\u001b[43m(\u001b[49m\u001b[38;5;124;43m\"\u001b[39;49m\u001b[38;5;124;43mentity\u001b[39;49m\u001b[38;5;124;43m\"\u001b[39;49m\u001b[43m)\u001b[49m\u001b[43m,\u001b[49m\n\u001b[1;32m   1899\u001b[0m \u001b[43m            \u001b[49m\u001b[38;5;124;43m\"\u001b[39;49m\u001b[38;5;124;43mprojectName\u001b[39;49m\u001b[38;5;124;43m\"\u001b[39;49m\u001b[43m:\u001b[49m\u001b[43m \u001b[49m\u001b[43mproject\u001b[49m\u001b[43m \u001b[49m\u001b[38;5;129;43;01mor\u001b[39;49;00m\u001b[43m \u001b[49m\u001b[38;5;28;43mself\u001b[39;49m\u001b[38;5;241;43m.\u001b[39;49m\u001b[43msettings\u001b[49m\u001b[43m(\u001b[49m\u001b[38;5;124;43m\"\u001b[39;49m\u001b[38;5;124;43mproject\u001b[39;49m\u001b[38;5;124;43m\"\u001b[39;49m\u001b[43m)\u001b[49m\u001b[43m,\u001b[49m\n\u001b[1;32m   1900\u001b[0m \u001b[43m            \u001b[49m\u001b[38;5;124;43m\"\u001b[39;49m\u001b[38;5;124;43mcontroller\u001b[39;49m\u001b[38;5;124;43m\"\u001b[39;49m\u001b[43m:\u001b[49m\u001b[43m \u001b[49m\u001b[43mcontroller\u001b[49m\u001b[43m,\u001b[49m\n\u001b[1;32m   1901\u001b[0m \u001b[43m            \u001b[49m\u001b[38;5;124;43m\"\u001b[39;49m\u001b[38;5;124;43mscheduler\u001b[39;49m\u001b[38;5;124;43m\"\u001b[39;49m\u001b[43m:\u001b[49m\u001b[43m \u001b[49m\u001b[43mscheduler\u001b[49m\u001b[43m,\u001b[49m\n\u001b[1;32m   1902\u001b[0m \u001b[43m        \u001b[49m\u001b[43m}\u001b[49m\u001b[43m,\u001b[49m\n\u001b[1;32m   1903\u001b[0m \u001b[43m        \u001b[49m\u001b[43mcheck_retry_fn\u001b[49m\u001b[38;5;241;43m=\u001b[39;49m\u001b[43mno_retry_4xx\u001b[49m\u001b[43m,\u001b[49m\n\u001b[1;32m   1904\u001b[0m \u001b[43m    \u001b[49m\u001b[43m)\u001b[49m\n\u001b[1;32m   1905\u001b[0m \u001b[38;5;28;01mexcept\u001b[39;00m UsageError \u001b[38;5;28;01mas\u001b[39;00m e:\n",
      "File \u001b[0;32m~/umass/682/project/spectroconv/.env/lib/python3.8/site-packages/wandb/sdk/lib/retry.py:118\u001b[0m, in \u001b[0;36mRetry.__call__\u001b[0;34m(self, *args, **kwargs)\u001b[0m\n\u001b[1;32m    116\u001b[0m \u001b[38;5;28;01mexcept\u001b[39;00m \u001b[38;5;28mself\u001b[39m\u001b[38;5;241m.\u001b[39m_retryable_exceptions \u001b[38;5;28;01mas\u001b[39;00m e:\n\u001b[1;32m    117\u001b[0m     \u001b[38;5;66;03m# if the secondary check fails, re-raise\u001b[39;00m\n\u001b[0;32m--> 118\u001b[0m     \u001b[38;5;28;01mif\u001b[39;00m \u001b[38;5;129;01mnot\u001b[39;00m \u001b[43mcheck_retry_fn\u001b[49m\u001b[43m(\u001b[49m\u001b[43me\u001b[49m\u001b[43m)\u001b[49m:\n\u001b[1;32m    119\u001b[0m         \u001b[38;5;28;01mraise\u001b[39;00m\n",
      "File \u001b[0;32m~/umass/682/project/spectroconv/.env/lib/python3.8/site-packages/wandb/sdk/internal/internal_api.py:1883\u001b[0m, in \u001b[0;36mApi.upsert_sweep.<locals>.no_retry_4xx\u001b[0;34m(e)\u001b[0m\n\u001b[1;32m   1882\u001b[0m body \u001b[38;5;241m=\u001b[39m json\u001b[38;5;241m.\u001b[39mloads(e\u001b[38;5;241m.\u001b[39mresponse\u001b[38;5;241m.\u001b[39mcontent)\n\u001b[0;32m-> 1883\u001b[0m \u001b[38;5;28;01mraise\u001b[39;00m UsageError(body[\u001b[38;5;124m\"\u001b[39m\u001b[38;5;124merrors\u001b[39m\u001b[38;5;124m\"\u001b[39m][\u001b[38;5;241m0\u001b[39m][\u001b[38;5;124m\"\u001b[39m\u001b[38;5;124mmessage\u001b[39m\u001b[38;5;124m\"\u001b[39m])\n",
      "\u001b[0;31mUsageError\u001b[0m: 400 Bad Request: The browser (or proxy) sent a request that this server could not understand.",
      "\nDuring handling of the above exception, another exception occurred:\n",
      "\u001b[0;31mCommError\u001b[0m                                 Traceback (most recent call last)",
      "Input \u001b[0;32mIn [5]\u001b[0m, in \u001b[0;36m<cell line: 2>\u001b[0;34m()\u001b[0m\n\u001b[1;32m      1\u001b[0m sweeper \u001b[38;5;241m=\u001b[39m wb_experiment\u001b[38;5;241m.\u001b[39mSweepExperiment(wb_config\u001b[38;5;241m=\u001b[39mconfig, login_key\u001b[38;5;241m=\u001b[39m\u001b[38;5;28;01mFalse\u001b[39;00m)\n\u001b[0;32m----> 2\u001b[0m \u001b[43msweeper\u001b[49m\u001b[38;5;241;43m.\u001b[39;49m\u001b[43mrun_sweep\u001b[49m\u001b[43m(\u001b[49m\u001b[43miterations\u001b[49m\u001b[43m \u001b[49m\u001b[38;5;241;43m=\u001b[39;49m\u001b[43m \u001b[49m\u001b[38;5;241;43m30\u001b[39;49m\u001b[43m,\u001b[49m\u001b[43m \u001b[49m\u001b[43msave_all\u001b[49m\u001b[43m \u001b[49m\u001b[38;5;241;43m=\u001b[39;49m\u001b[43m \u001b[49m\u001b[38;5;28;43;01mFalse\u001b[39;49;00m\u001b[43m)\u001b[49m\n",
      "File \u001b[0;32m~/umass/682/project/spectroconv/models/wb_experiment.py:270\u001b[0m, in \u001b[0;36mSweepExperiment.run_sweep\u001b[0;34m(self, iterations, save_all)\u001b[0m\n\u001b[1;32m    267\u001b[0m sweep_config \u001b[38;5;241m=\u001b[39m \u001b[38;5;28mself\u001b[39m\u001b[38;5;241m.\u001b[39mwb_config[\u001b[38;5;124m'\u001b[39m\u001b[38;5;124msweep_config\u001b[39m\u001b[38;5;124m'\u001b[39m]\n\u001b[1;32m    269\u001b[0m \u001b[38;5;66;03m# Itialize sweep on wandb server\u001b[39;00m\n\u001b[0;32m--> 270\u001b[0m sweep_id \u001b[38;5;241m=\u001b[39m \u001b[43mwandb\u001b[49m\u001b[38;5;241;43m.\u001b[39;49m\u001b[43msweep\u001b[49m\u001b[43m(\u001b[49m\u001b[43msweep_config\u001b[49m\u001b[43m,\u001b[49m\u001b[43m \u001b[49m\u001b[43mentity\u001b[49m\u001b[38;5;241;43m=\u001b[39;49m\u001b[43msweep_config\u001b[49m\u001b[43m[\u001b[49m\u001b[38;5;124;43m'\u001b[39;49m\u001b[38;5;124;43mentity\u001b[39;49m\u001b[38;5;124;43m'\u001b[39;49m\u001b[43m]\u001b[49m\u001b[43m,\u001b[49m\u001b[43m \u001b[49m\u001b[43mproject\u001b[49m\u001b[38;5;241;43m=\u001b[39;49m\u001b[43msweep_config\u001b[49m\u001b[43m[\u001b[49m\u001b[38;5;124;43m'\u001b[39;49m\u001b[38;5;124;43mproject\u001b[39;49m\u001b[38;5;124;43m'\u001b[39;49m\u001b[43m]\u001b[49m\u001b[43m)\u001b[49m\n\u001b[1;32m    272\u001b[0m \u001b[38;5;66;03m# start running on our side, update results to wandb along the way\u001b[39;00m\n\u001b[1;32m    273\u001b[0m wandb\u001b[38;5;241m.\u001b[39magent(sweep_id, \u001b[38;5;28mself\u001b[39m\u001b[38;5;241m.\u001b[39mtrain_with_parameters, count\u001b[38;5;241m=\u001b[39miterations)\n",
      "File \u001b[0;32m~/umass/682/project/spectroconv/.env/lib/python3.8/site-packages/wandb/sdk/wandb_sweep.py:105\u001b[0m, in \u001b[0;36msweep\u001b[0;34m(sweep, entity, project)\u001b[0m\n\u001b[1;32m    103\u001b[0m     wandb_login\u001b[38;5;241m.\u001b[39m_login(_silent\u001b[38;5;241m=\u001b[39m\u001b[38;5;28;01mTrue\u001b[39;00m)\n\u001b[1;32m    104\u001b[0m api \u001b[38;5;241m=\u001b[39m InternalApi()\n\u001b[0;32m--> 105\u001b[0m sweep_id, warnings \u001b[38;5;241m=\u001b[39m \u001b[43mapi\u001b[49m\u001b[38;5;241;43m.\u001b[39;49m\u001b[43mupsert_sweep\u001b[49m\u001b[43m(\u001b[49m\u001b[43msweep\u001b[49m\u001b[43m)\u001b[49m\n\u001b[1;32m    106\u001b[0m handle_sweep_config_violations(warnings)\n\u001b[1;32m    107\u001b[0m \u001b[38;5;28mprint\u001b[39m(\u001b[38;5;124m\"\u001b[39m\u001b[38;5;124mCreate sweep with ID:\u001b[39m\u001b[38;5;124m\"\u001b[39m, sweep_id)\n",
      "File \u001b[0;32m~/umass/682/project/spectroconv/.env/lib/python3.8/site-packages/wandb/apis/internal.py:102\u001b[0m, in \u001b[0;36mApi.upsert_sweep\u001b[0;34m(self, *args, **kwargs)\u001b[0m\n\u001b[1;32m    101\u001b[0m \u001b[38;5;28;01mdef\u001b[39;00m \u001b[38;5;21mupsert_sweep\u001b[39m(\u001b[38;5;28mself\u001b[39m, \u001b[38;5;241m*\u001b[39margs, \u001b[38;5;241m*\u001b[39m\u001b[38;5;241m*\u001b[39mkwargs):\n\u001b[0;32m--> 102\u001b[0m     \u001b[38;5;28;01mreturn\u001b[39;00m \u001b[38;5;28;43mself\u001b[39;49m\u001b[38;5;241;43m.\u001b[39;49m\u001b[43mapi\u001b[49m\u001b[38;5;241;43m.\u001b[39;49m\u001b[43mupsert_sweep\u001b[49m\u001b[43m(\u001b[49m\u001b[38;5;241;43m*\u001b[39;49m\u001b[43margs\u001b[49m\u001b[43m,\u001b[49m\u001b[43m \u001b[49m\u001b[38;5;241;43m*\u001b[39;49m\u001b[38;5;241;43m*\u001b[39;49m\u001b[43mkwargs\u001b[49m\u001b[43m)\u001b[49m\n",
      "File \u001b[0;32m~/umass/682/project/spectroconv/.env/lib/python3.8/site-packages/wandb/apis/normalize.py:62\u001b[0m, in \u001b[0;36mnormalize_exceptions.<locals>.wrapper\u001b[0;34m(*args, **kwargs)\u001b[0m\n\u001b[1;32m     60\u001b[0m     six\u001b[38;5;241m.\u001b[39mreraise(\u001b[38;5;241m*\u001b[39msys\u001b[38;5;241m.\u001b[39mexc_info())\n\u001b[1;32m     61\u001b[0m \u001b[38;5;28;01melse\u001b[39;00m:\n\u001b[0;32m---> 62\u001b[0m     \u001b[43msix\u001b[49m\u001b[38;5;241;43m.\u001b[39;49m\u001b[43mreraise\u001b[49m\u001b[43m(\u001b[49m\u001b[43mCommError\u001b[49m\u001b[43m,\u001b[49m\u001b[43m \u001b[49m\u001b[43mCommError\u001b[49m\u001b[43m(\u001b[49m\u001b[43mmessage\u001b[49m\u001b[43m,\u001b[49m\u001b[43m \u001b[49m\u001b[43merr\u001b[49m\u001b[43m)\u001b[49m\u001b[43m,\u001b[49m\u001b[43m \u001b[49m\u001b[43msys\u001b[49m\u001b[38;5;241;43m.\u001b[39;49m\u001b[43mexc_info\u001b[49m\u001b[43m(\u001b[49m\u001b[43m)\u001b[49m\u001b[43m[\u001b[49m\u001b[38;5;241;43m2\u001b[39;49m\u001b[43m]\u001b[49m\u001b[43m)\u001b[49m\n",
      "File \u001b[0;32m~/umass/682/project/spectroconv/.env/lib/python3.8/site-packages/six.py:702\u001b[0m, in \u001b[0;36mreraise\u001b[0;34m(tp, value, tb)\u001b[0m\n\u001b[1;32m    700\u001b[0m         value \u001b[38;5;241m=\u001b[39m tp()\n\u001b[1;32m    701\u001b[0m     \u001b[38;5;28;01mif\u001b[39;00m value\u001b[38;5;241m.\u001b[39m__traceback__ \u001b[38;5;129;01mis\u001b[39;00m \u001b[38;5;129;01mnot\u001b[39;00m tb:\n\u001b[0;32m--> 702\u001b[0m         \u001b[38;5;28;01mraise\u001b[39;00m value\u001b[38;5;241m.\u001b[39mwith_traceback(tb)\n\u001b[1;32m    703\u001b[0m     \u001b[38;5;28;01mraise\u001b[39;00m value\n\u001b[1;32m    704\u001b[0m \u001b[38;5;28;01mfinally\u001b[39;00m:\n",
      "File \u001b[0;32m~/umass/682/project/spectroconv/.env/lib/python3.8/site-packages/wandb/apis/normalize.py:24\u001b[0m, in \u001b[0;36mnormalize_exceptions.<locals>.wrapper\u001b[0;34m(*args, **kwargs)\u001b[0m\n\u001b[1;32m     22\u001b[0m message \u001b[38;5;241m=\u001b[39m \u001b[38;5;124m\"\u001b[39m\u001b[38;5;124mWhoa, you found a bug.\u001b[39m\u001b[38;5;124m\"\u001b[39m\n\u001b[1;32m     23\u001b[0m \u001b[38;5;28;01mtry\u001b[39;00m:\n\u001b[0;32m---> 24\u001b[0m     \u001b[38;5;28;01mreturn\u001b[39;00m \u001b[43mfunc\u001b[49m\u001b[43m(\u001b[49m\u001b[38;5;241;43m*\u001b[39;49m\u001b[43margs\u001b[49m\u001b[43m,\u001b[49m\u001b[43m \u001b[49m\u001b[38;5;241;43m*\u001b[39;49m\u001b[38;5;241;43m*\u001b[39;49m\u001b[43mkwargs\u001b[49m\u001b[43m)\u001b[49m\n\u001b[1;32m     25\u001b[0m \u001b[38;5;28;01mexcept\u001b[39;00m requests\u001b[38;5;241m.\u001b[39mHTTPError \u001b[38;5;28;01mas\u001b[39;00m err:\n\u001b[1;32m     26\u001b[0m     \u001b[38;5;28;01mraise\u001b[39;00m CommError(err\u001b[38;5;241m.\u001b[39mresponse, err)\n",
      "File \u001b[0;32m~/umass/682/project/spectroconv/.env/lib/python3.8/site-packages/wandb/sdk/internal/internal_api.py:1906\u001b[0m, in \u001b[0;36mApi.upsert_sweep\u001b[0;34m(self, config, controller, scheduler, obj_id, project, entity, state)\u001b[0m\n\u001b[1;32m   1892\u001b[0m     response \u001b[38;5;241m=\u001b[39m \u001b[38;5;28mself\u001b[39m\u001b[38;5;241m.\u001b[39mgql(\n\u001b[1;32m   1893\u001b[0m         mutation,\n\u001b[1;32m   1894\u001b[0m         variable_values\u001b[38;5;241m=\u001b[39m{\n\u001b[0;32m   (...)\u001b[0m\n\u001b[1;32m   1903\u001b[0m         check_retry_fn\u001b[38;5;241m=\u001b[39mno_retry_4xx,\n\u001b[1;32m   1904\u001b[0m     )\n\u001b[1;32m   1905\u001b[0m \u001b[38;5;28;01mexcept\u001b[39;00m UsageError \u001b[38;5;28;01mas\u001b[39;00m e:\n\u001b[0;32m-> 1906\u001b[0m     \u001b[38;5;28;01mraise\u001b[39;00m (e)\n\u001b[1;32m   1907\u001b[0m \u001b[38;5;28;01mexcept\u001b[39;00m \u001b[38;5;167;01mException\u001b[39;00m \u001b[38;5;28;01mas\u001b[39;00m e:\n\u001b[1;32m   1908\u001b[0m     \u001b[38;5;66;03m# graphql schema exception is generic\u001b[39;00m\n\u001b[1;32m   1909\u001b[0m     err \u001b[38;5;241m=\u001b[39m e\n",
      "File \u001b[0;32m~/umass/682/project/spectroconv/.env/lib/python3.8/site-packages/wandb/sdk/internal/internal_api.py:1892\u001b[0m, in \u001b[0;36mApi.upsert_sweep\u001b[0;34m(self, config, controller, scheduler, obj_id, project, entity, state)\u001b[0m\n\u001b[1;32m   1890\u001b[0m \u001b[38;5;28;01mfor\u001b[39;00m mutation \u001b[38;5;129;01min\u001b[39;00m mutations:\n\u001b[1;32m   1891\u001b[0m     \u001b[38;5;28;01mtry\u001b[39;00m:\n\u001b[0;32m-> 1892\u001b[0m         response \u001b[38;5;241m=\u001b[39m \u001b[38;5;28;43mself\u001b[39;49m\u001b[38;5;241;43m.\u001b[39;49m\u001b[43mgql\u001b[49m\u001b[43m(\u001b[49m\n\u001b[1;32m   1893\u001b[0m \u001b[43m            \u001b[49m\u001b[43mmutation\u001b[49m\u001b[43m,\u001b[49m\n\u001b[1;32m   1894\u001b[0m \u001b[43m            \u001b[49m\u001b[43mvariable_values\u001b[49m\u001b[38;5;241;43m=\u001b[39;49m\u001b[43m{\u001b[49m\n\u001b[1;32m   1895\u001b[0m \u001b[43m                \u001b[49m\u001b[38;5;124;43m\"\u001b[39;49m\u001b[38;5;124;43mid\u001b[39;49m\u001b[38;5;124;43m\"\u001b[39;49m\u001b[43m:\u001b[49m\u001b[43m \u001b[49m\u001b[43mobj_id\u001b[49m\u001b[43m,\u001b[49m\n\u001b[1;32m   1896\u001b[0m \u001b[43m                \u001b[49m\u001b[38;5;124;43m\"\u001b[39;49m\u001b[38;5;124;43mconfig\u001b[39;49m\u001b[38;5;124;43m\"\u001b[39;49m\u001b[43m:\u001b[49m\u001b[43m \u001b[49m\u001b[43myaml\u001b[49m\u001b[38;5;241;43m.\u001b[39;49m\u001b[43mdump\u001b[49m\u001b[43m(\u001b[49m\u001b[43mconfig\u001b[49m\u001b[43m)\u001b[49m\u001b[43m,\u001b[49m\n\u001b[1;32m   1897\u001b[0m \u001b[43m                \u001b[49m\u001b[38;5;124;43m\"\u001b[39;49m\u001b[38;5;124;43mdescription\u001b[39;49m\u001b[38;5;124;43m\"\u001b[39;49m\u001b[43m:\u001b[49m\u001b[43m \u001b[49m\u001b[43mconfig\u001b[49m\u001b[38;5;241;43m.\u001b[39;49m\u001b[43mget\u001b[49m\u001b[43m(\u001b[49m\u001b[38;5;124;43m\"\u001b[39;49m\u001b[38;5;124;43mdescription\u001b[39;49m\u001b[38;5;124;43m\"\u001b[39;49m\u001b[43m)\u001b[49m\u001b[43m,\u001b[49m\n\u001b[1;32m   1898\u001b[0m \u001b[43m                \u001b[49m\u001b[38;5;124;43m\"\u001b[39;49m\u001b[38;5;124;43mentityName\u001b[39;49m\u001b[38;5;124;43m\"\u001b[39;49m\u001b[43m:\u001b[49m\u001b[43m \u001b[49m\u001b[43mentity\u001b[49m\u001b[43m \u001b[49m\u001b[38;5;129;43;01mor\u001b[39;49;00m\u001b[43m \u001b[49m\u001b[38;5;28;43mself\u001b[39;49m\u001b[38;5;241;43m.\u001b[39;49m\u001b[43msettings\u001b[49m\u001b[43m(\u001b[49m\u001b[38;5;124;43m\"\u001b[39;49m\u001b[38;5;124;43mentity\u001b[39;49m\u001b[38;5;124;43m\"\u001b[39;49m\u001b[43m)\u001b[49m\u001b[43m,\u001b[49m\n\u001b[1;32m   1899\u001b[0m \u001b[43m                \u001b[49m\u001b[38;5;124;43m\"\u001b[39;49m\u001b[38;5;124;43mprojectName\u001b[39;49m\u001b[38;5;124;43m\"\u001b[39;49m\u001b[43m:\u001b[49m\u001b[43m \u001b[49m\u001b[43mproject\u001b[49m\u001b[43m \u001b[49m\u001b[38;5;129;43;01mor\u001b[39;49;00m\u001b[43m \u001b[49m\u001b[38;5;28;43mself\u001b[39;49m\u001b[38;5;241;43m.\u001b[39;49m\u001b[43msettings\u001b[49m\u001b[43m(\u001b[49m\u001b[38;5;124;43m\"\u001b[39;49m\u001b[38;5;124;43mproject\u001b[39;49m\u001b[38;5;124;43m\"\u001b[39;49m\u001b[43m)\u001b[49m\u001b[43m,\u001b[49m\n\u001b[1;32m   1900\u001b[0m \u001b[43m                \u001b[49m\u001b[38;5;124;43m\"\u001b[39;49m\u001b[38;5;124;43mcontroller\u001b[39;49m\u001b[38;5;124;43m\"\u001b[39;49m\u001b[43m:\u001b[49m\u001b[43m \u001b[49m\u001b[43mcontroller\u001b[49m\u001b[43m,\u001b[49m\n\u001b[1;32m   1901\u001b[0m \u001b[43m                \u001b[49m\u001b[38;5;124;43m\"\u001b[39;49m\u001b[38;5;124;43mscheduler\u001b[39;49m\u001b[38;5;124;43m\"\u001b[39;49m\u001b[43m:\u001b[49m\u001b[43m \u001b[49m\u001b[43mscheduler\u001b[49m\u001b[43m,\u001b[49m\n\u001b[1;32m   1902\u001b[0m \u001b[43m            \u001b[49m\u001b[43m}\u001b[49m\u001b[43m,\u001b[49m\n\u001b[1;32m   1903\u001b[0m \u001b[43m            \u001b[49m\u001b[43mcheck_retry_fn\u001b[49m\u001b[38;5;241;43m=\u001b[39;49m\u001b[43mno_retry_4xx\u001b[49m\u001b[43m,\u001b[49m\n\u001b[1;32m   1904\u001b[0m \u001b[43m        \u001b[49m\u001b[43m)\u001b[49m\n\u001b[1;32m   1905\u001b[0m     \u001b[38;5;28;01mexcept\u001b[39;00m UsageError \u001b[38;5;28;01mas\u001b[39;00m e:\n\u001b[1;32m   1906\u001b[0m         \u001b[38;5;28;01mraise\u001b[39;00m (e)\n",
      "File \u001b[0;32m~/umass/682/project/spectroconv/.env/lib/python3.8/site-packages/wandb/sdk/lib/retry.py:118\u001b[0m, in \u001b[0;36mRetry.__call__\u001b[0;34m(self, *args, **kwargs)\u001b[0m\n\u001b[1;32m    115\u001b[0m     \u001b[38;5;28;01mreturn\u001b[39;00m result\n\u001b[1;32m    116\u001b[0m \u001b[38;5;28;01mexcept\u001b[39;00m \u001b[38;5;28mself\u001b[39m\u001b[38;5;241m.\u001b[39m_retryable_exceptions \u001b[38;5;28;01mas\u001b[39;00m e:\n\u001b[1;32m    117\u001b[0m     \u001b[38;5;66;03m# if the secondary check fails, re-raise\u001b[39;00m\n\u001b[0;32m--> 118\u001b[0m     \u001b[38;5;28;01mif\u001b[39;00m \u001b[38;5;129;01mnot\u001b[39;00m \u001b[43mcheck_retry_fn\u001b[49m\u001b[43m(\u001b[49m\u001b[43me\u001b[49m\u001b[43m)\u001b[49m:\n\u001b[1;32m    119\u001b[0m         \u001b[38;5;28;01mraise\u001b[39;00m\n\u001b[1;32m    120\u001b[0m     \u001b[38;5;28;01mif\u001b[39;00m (\n\u001b[1;32m    121\u001b[0m         datetime\u001b[38;5;241m.\u001b[39mdatetime\u001b[38;5;241m.\u001b[39mnow() \u001b[38;5;241m-\u001b[39m start_time \u001b[38;5;241m>\u001b[39m\u001b[38;5;241m=\u001b[39m retry_timedelta\n\u001b[1;32m    122\u001b[0m         \u001b[38;5;129;01mor\u001b[39;00m \u001b[38;5;28mself\u001b[39m\u001b[38;5;241m.\u001b[39m_num_iter \u001b[38;5;241m>\u001b[39m\u001b[38;5;241m=\u001b[39m num_retries\n\u001b[1;32m    123\u001b[0m     ):\n",
      "File \u001b[0;32m~/umass/682/project/spectroconv/.env/lib/python3.8/site-packages/wandb/sdk/internal/internal_api.py:1883\u001b[0m, in \u001b[0;36mApi.upsert_sweep.<locals>.no_retry_4xx\u001b[0;34m(e)\u001b[0m\n\u001b[1;32m   1881\u001b[0m     \u001b[38;5;28;01mreturn\u001b[39;00m \u001b[38;5;28;01mTrue\u001b[39;00m\n\u001b[1;32m   1882\u001b[0m body \u001b[38;5;241m=\u001b[39m json\u001b[38;5;241m.\u001b[39mloads(e\u001b[38;5;241m.\u001b[39mresponse\u001b[38;5;241m.\u001b[39mcontent)\n\u001b[0;32m-> 1883\u001b[0m \u001b[38;5;28;01mraise\u001b[39;00m UsageError(body[\u001b[38;5;124m\"\u001b[39m\u001b[38;5;124merrors\u001b[39m\u001b[38;5;124m\"\u001b[39m][\u001b[38;5;241m0\u001b[39m][\u001b[38;5;124m\"\u001b[39m\u001b[38;5;124mmessage\u001b[39m\u001b[38;5;124m\"\u001b[39m])\n",
      "\u001b[0;31mCommError\u001b[0m: 400 Bad Request: The browser (or proxy) sent a request that this server could not understand."
     ]
    }
   ],
   "source": [
    "sweeper = wb_experiment.SweepExperiment(wb_config=config, login_key=False)\n",
    "sweeper.run_sweep(iterations = 30, save_all = False)"
   ]
  },
  {
   "cell_type": "code",
   "execution_count": null,
   "id": "c4e7f8a4",
   "metadata": {},
   "outputs": [],
   "source": []
  }
 ],
 "metadata": {
  "accelerator": "GPU",
  "colab": {
   "collapsed_sections": [],
   "name": "sweep_lc.ipynb",
   "provenance": []
  },
  "kernelspec": {
   "display_name": "Python 3 (ipykernel)",
   "language": "python",
   "name": "python3"
  },
  "language_info": {
   "codemirror_mode": {
    "name": "ipython",
    "version": 3
   },
   "file_extension": ".py",
   "mimetype": "text/x-python",
   "name": "python",
   "nbconvert_exporter": "python",
   "pygments_lexer": "ipython3",
   "version": "3.8.5"
  }
 },
 "nbformat": 4,
 "nbformat_minor": 5
}
