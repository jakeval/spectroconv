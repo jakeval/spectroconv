{
 "cells": [
  {
   "cell_type": "code",
   "execution_count": 115,
   "id": "58945cb2",
   "metadata": {},
   "outputs": [
    {
     "name": "stdout",
     "output_type": "stream",
     "text": [
      "The autoreload extension is already loaded. To reload it, use:\n",
      "  %reload_ext autoreload\n"
     ]
    }
   ],
   "source": [
    "%load_ext autoreload\n",
    "%autoreload 2"
   ]
  },
  {
   "cell_type": "code",
   "execution_count": 120,
   "id": "992384f0",
   "metadata": {},
   "outputs": [],
   "source": [
    "# ENABLE IF USING COLAB\n",
    "USE_COLAB = False\n",
    "\n",
    "if USE_COLAB:\n",
    "    import os\n",
    "    import shutil\n",
    "    if os.path.exists('/content/spectroconv/'):\n",
    "        shutil.rmtree('/content/spectroconv/') #deletes a directory and all its contents.\n",
    "    !git clone https://github.com/jakeval/spectroconv.git\n",
    "    !pip install hub\n",
    "    !pip install hub[audio]\n",
    "    !pip install wandb\n",
    "    import sys\n",
    "    sys.path.insert(0,'/content/spectroconv')"
   ]
  },
  {
   "cell_type": "code",
   "execution_count": 116,
   "id": "661cd0de",
   "metadata": {},
   "outputs": [],
   "source": [
    "from models import wb_experiment"
   ]
  },
  {
   "cell_type": "code",
   "execution_count": 118,
   "id": "f5876876",
   "metadata": {},
   "outputs": [
    {
     "data": {
      "text/html": [
       "Tracking run with wandb version 0.12.14"
      ],
      "text/plain": [
       "<IPython.core.display.HTML object>"
      ]
     },
     "metadata": {},
     "output_type": "display_data"
    },
    {
     "data": {
      "text/html": [
       "Run data is saved locally in <code>/home/jakeval/umass/682/project/spectroconv/wandb/run-20220419_110251-2l6cg51o</code>"
      ],
      "text/plain": [
       "<IPython.core.display.HTML object>"
      ]
     },
     "metadata": {},
     "output_type": "display_data"
    },
    {
     "data": {
      "text/html": [
       "Syncing run <strong><a href=\"https://wandb.ai/jakeval/train-test/runs/2l6cg51o\" target=\"_blank\">stoic-voice-129</a></strong> to <a href=\"https://wandb.ai/jakeval/train-test\" target=\"_blank\">Weights & Biases</a> (<a href=\"https://wandb.me/run\" target=\"_blank\">docs</a>)<br/>"
      ],
      "text/plain": [
       "<IPython.core.display.HTML object>"
      ]
     },
     "metadata": {},
     "output_type": "display_data"
    },
    {
     "name": "stdout",
     "output_type": "stream",
     "text": [
      "hub://jakeval/nsynth-tiny-train-metadata loaded successfully.\n"
     ]
    },
    {
     "name": "stderr",
     "output_type": "stream",
     "text": [
      "/home/jakeval/umass/682/project/spectroconv/.env/lib/python3.8/site-packages/hub/core/fast_forwarding.py:43: UserWarning: Loading a dataset that was created or updated with a newer version of hub. This could lead to corruption or unexpected errors! Dataset version: 2.3.3, current hub version: 2.3.2. It's recommended that you update to a version of hub >= 2.3.3.\n",
      "  warnings.warn(\n"
     ]
    },
    {
     "name": "stdout",
     "output_type": "stream",
     "text": [
      "This dataset can be visualized at https://app.activeloop.ai/jakeval/nsynth-tiny-train-metadata.\n",
      "hub://jakeval/nsynth-tiny-train loaded successfully.\n",
      "This dataset can be visualized at https://app.activeloop.ai/jakeval/nsynth-tiny-train.\n",
      "hub://jakeval/nsynth-tiny-val-metadata loaded successfully.\n",
      "This dataset can be visualized at https://app.activeloop.ai/jakeval/nsynth-tiny-val-metadata.\n",
      "hub://jakeval/nsynth-tiny-val loaded successfully.\n",
      "This dataset can be visualized at https://app.activeloop.ai/jakeval/nsynth-tiny-val.\n"
     ]
    },
    {
     "data": {
      "application/vnd.jupyter.widget-view+json": {
       "model_id": "1f310a3772394b3cb83fdf5cba98686f",
       "version_major": 2,
       "version_minor": 0
      },
      "text/plain": [
       "  0%|          | 0/4 [00:00<?, ?it/s]"
      ]
     },
     "metadata": {},
     "output_type": "display_data"
    },
    {
     "data": {
      "application/vnd.jupyter.widget-view+json": {
       "model_id": "",
       "version_major": 2,
       "version_minor": 0
      },
      "text/plain": [
       "  0%|          | 0/7 [00:00<?, ?it/s]"
      ]
     },
     "metadata": {},
     "output_type": "display_data"
    },
    {
     "name": "stdout",
     "output_type": "stream",
     "text": [
      "Epoch: 0, Batch: 0/7 (0%)\tLoss: 0.738371\n"
     ]
    },
    {
     "data": {
      "application/vnd.jupyter.widget-view+json": {
       "model_id": "",
       "version_major": 2,
       "version_minor": 0
      },
      "text/plain": [
       "  0%|          | 0/7 [00:00<?, ?it/s]"
      ]
     },
     "metadata": {},
     "output_type": "display_data"
    },
    {
     "name": "stdout",
     "output_type": "stream",
     "text": [
      "Epoch: 1, Batch: 0/7 (0%)\tLoss: 0.216961\n"
     ]
    },
    {
     "data": {
      "application/vnd.jupyter.widget-view+json": {
       "model_id": "",
       "version_major": 2,
       "version_minor": 0
      },
      "text/plain": [
       "  0%|          | 0/7 [00:00<?, ?it/s]"
      ]
     },
     "metadata": {},
     "output_type": "display_data"
    },
    {
     "name": "stdout",
     "output_type": "stream",
     "text": [
      "Epoch: 2, Batch: 0/7 (0%)\tLoss: 0.029838\n"
     ]
    },
    {
     "data": {
      "application/vnd.jupyter.widget-view+json": {
       "model_id": "",
       "version_major": 2,
       "version_minor": 0
      },
      "text/plain": [
       "  0%|          | 0/7 [00:00<?, ?it/s]"
      ]
     },
     "metadata": {},
     "output_type": "display_data"
    },
    {
     "name": "stdout",
     "output_type": "stream",
     "text": [
      "Epoch: 3, Batch: 0/7 (0%)\tLoss: 0.002039\n",
      "\n"
     ]
    },
    {
     "data": {
      "text/html": [
       "Waiting for W&B process to finish... <strong style=\"color:green\">(success).</strong>"
      ],
      "text/plain": [
       "<IPython.core.display.HTML object>"
      ]
     },
     "metadata": {},
     "output_type": "display_data"
    },
    {
     "data": {
      "application/vnd.jupyter.widget-view+json": {
       "model_id": "",
       "version_major": 2,
       "version_minor": 0
      },
      "text/plain": [
       "VBox(children=(Label(value='0.655 MB of 0.655 MB uploaded (0.000 MB deduped)\\r'), FloatProgress(value=1.0, max…"
      ]
     },
     "metadata": {},
     "output_type": "display_data"
    },
    {
     "data": {
      "text/html": [
       "<style>\n",
       "    table.wandb td:nth-child(1) { padding: 0 10px; text-align: right }\n",
       "    .wandb-row { display: flex; flex-direction: row; flex-wrap: wrap; width: 100% }\n",
       "    .wandb-col { display: flex; flex-direction: column; flex-basis: 100%; flex: 1; padding: 10px; }\n",
       "    </style>\n",
       "<div class=\"wandb-row\"><div class=\"wandb-col\"><h3>Run history:</h3><br/><table class=\"wandb\"><tr><td>epoch</td><td>▁▁▃▃▆▆██</td></tr><tr><td>train/accuracy</td><td>▁▆██</td></tr><tr><td>train/loss</td><td>█▃▁▁</td></tr><tr><td>validation/accuracy</td><td>▁███</td></tr><tr><td>validation/loss</td><td>█▅▂▁</td></tr></table><br/></div><div class=\"wandb-col\"><h3>Run summary:</h3><br/><table class=\"wandb\"><tr><td>epoch</td><td>3</td></tr><tr><td>train/accuracy</td><td>1.0</td></tr><tr><td>train/loss</td><td>0.00204</td></tr><tr><td>validation/accuracy</td><td>1.0</td></tr><tr><td>validation/loss</td><td>0.08623</td></tr></table><br/></div></div>"
      ],
      "text/plain": [
       "<IPython.core.display.HTML object>"
      ]
     },
     "metadata": {},
     "output_type": "display_data"
    },
    {
     "data": {
      "text/html": [
       "Synced <strong style=\"color:#cdcd00\">stoic-voice-129</strong>: <a href=\"https://wandb.ai/jakeval/train-test/runs/2l6cg51o\" target=\"_blank\">https://wandb.ai/jakeval/train-test/runs/2l6cg51o</a><br/>Synced 5 W&B file(s), 0 media file(s), 2 artifact file(s) and 2 other file(s)"
      ],
      "text/plain": [
       "<IPython.core.display.HTML object>"
      ]
     },
     "metadata": {},
     "output_type": "display_data"
    },
    {
     "data": {
      "text/html": [
       "Find logs at: <code>./wandb/run-20220419_110251-2l6cg51o/logs</code>"
      ],
      "text/plain": [
       "<IPython.core.display.HTML object>"
      ]
     },
     "metadata": {},
     "output_type": "display_data"
    }
   ],
   "source": [
    "wb_config = {\n",
    "    'project': 'spectroconv-debug',\n",
    "    'entity': 'jakeval-colab',\n",
    "    'group': 'cnn' # use this only when training/evaluating/etc a CNN\n",
    "}\n",
    "\n",
    "config = {\n",
    "    'data': {\n",
    "        'train': {\n",
    "            'name': 'nsynth-tiny-train'\n",
    "        },\n",
    "        'val': {\n",
    "            'name': 'nsynth-tiny-val'\n",
    "        }\n",
    "    },\n",
    "    'model': {\n",
    "        'name': 'trained-cnn',\n",
    "    },\n",
    "    'optimizer': {\n",
    "        'name': 'SGD',\n",
    "        'params': {\n",
    "            'lr': 0.005,\n",
    "            'momentum': 0.9\n",
    "        }\n",
    "    },\n",
    "    'train': {\n",
    "        'epochs': 4,\n",
    "        'batch_size': 16,\n",
    "        'batch_log_interval': 15\n",
    "    }\n",
    "}\n",
    "\n",
    "trainer = wb_experiment.TrainExperiment(wb_config)\n",
    "trainer.run_train(config, save_model=True)"
   ]
  },
  {
   "cell_type": "code",
   "execution_count": 119,
   "id": "1a3c06e5",
   "metadata": {
    "scrolled": false
   },
   "outputs": [
    {
     "data": {
      "text/html": [
       "Tracking run with wandb version 0.12.14"
      ],
      "text/plain": [
       "<IPython.core.display.HTML object>"
      ]
     },
     "metadata": {},
     "output_type": "display_data"
    },
    {
     "data": {
      "text/html": [
       "Run data is saved locally in <code>/home/jakeval/umass/682/project/spectroconv/wandb/run-20220419_110319-2b9pzg5h</code>"
      ],
      "text/plain": [
       "<IPython.core.display.HTML object>"
      ]
     },
     "metadata": {},
     "output_type": "display_data"
    },
    {
     "data": {
      "text/html": [
       "Syncing run <strong><a href=\"https://wandb.ai/jakeval/train-test/runs/2b9pzg5h\" target=\"_blank\">summer-vortex-130</a></strong> to <a href=\"https://wandb.ai/jakeval/train-test\" target=\"_blank\">Weights & Biases</a> (<a href=\"https://wandb.me/run\" target=\"_blank\">docs</a>)<br/>"
      ],
      "text/plain": [
       "<IPython.core.display.HTML object>"
      ]
     },
     "metadata": {},
     "output_type": "display_data"
    },
    {
     "name": "stdout",
     "output_type": "stream",
     "text": [
      "hub://jakeval/nsynth-tiny-val-metadata loaded successfully.\n"
     ]
    },
    {
     "name": "stderr",
     "output_type": "stream",
     "text": [
      "/home/jakeval/umass/682/project/spectroconv/.env/lib/python3.8/site-packages/hub/core/fast_forwarding.py:43: UserWarning: Loading a dataset that was created or updated with a newer version of hub. This could lead to corruption or unexpected errors! Dataset version: 2.3.3, current hub version: 2.3.2. It's recommended that you update to a version of hub >= 2.3.3.\n",
      "  warnings.warn(\n"
     ]
    },
    {
     "name": "stdout",
     "output_type": "stream",
     "text": [
      "This dataset can be visualized at https://app.activeloop.ai/jakeval/nsynth-tiny-val-metadata.\n",
      "hub://jakeval/nsynth-tiny-val loaded successfully.\n",
      "This dataset can be visualized at https://app.activeloop.ai/jakeval/nsynth-tiny-val.\n",
      "Loading 8 spectrograms...\n",
      "Loading 8 audio clips...\n",
      "Opening dataset in read-only mode as you don't have write permissions.\n",
      "hub://activeloop/nsynth-val loaded successfully.\n",
      "This dataset can be visualized at https://app.activeloop.ai/activeloop/nsynth-val.\n",
      "Linished loading\n",
      "\n"
     ]
    },
    {
     "data": {
      "text/html": [
       "Waiting for W&B process to finish... <strong style=\"color:green\">(success).</strong>"
      ],
      "text/plain": [
       "<IPython.core.display.HTML object>"
      ]
     },
     "metadata": {},
     "output_type": "display_data"
    },
    {
     "data": {
      "application/vnd.jupyter.widget-view+json": {
       "model_id": "",
       "version_major": 2,
       "version_minor": 0
      },
      "text/plain": [
       "VBox(children=(Label(value='1.161 MB of 1.161 MB uploaded (0.000 MB deduped)\\r'), FloatProgress(value=1.0, max…"
      ]
     },
     "metadata": {},
     "output_type": "display_data"
    },
    {
     "data": {
      "text/html": [
       "Synced <strong style=\"color:#cdcd00\">summer-vortex-130</strong>: <a href=\"https://wandb.ai/jakeval/train-test/runs/2b9pzg5h\" target=\"_blank\">https://wandb.ai/jakeval/train-test/runs/2b9pzg5h</a><br/>Synced 5 W&B file(s), 1 media file(s), 17 artifact file(s) and 0 other file(s)"
      ],
      "text/plain": [
       "<IPython.core.display.HTML object>"
      ]
     },
     "metadata": {},
     "output_type": "display_data"
    },
    {
     "data": {
      "text/html": [
       "Find logs at: <code>./wandb/run-20220419_110319-2b9pzg5h/logs</code>"
      ],
      "text/plain": [
       "<IPython.core.display.HTML object>"
      ]
     },
     "metadata": {},
     "output_type": "display_data"
    }
   ],
   "source": [
    "config = {\n",
    "    'data': {\n",
    "        'val': {\n",
    "            'name': 'nsynth-tiny-val'\n",
    "        }\n",
    "    },\n",
    "    'model_name': 'trained-cnn',\n",
    "    'eval': {\n",
    "        'examples': {\n",
    "            'k': 8\n",
    "        }\n",
    "    }\n",
    "}\n",
    "\n",
    "trainer = wb_experiment.EvalExperiment(wb_config)\n",
    "metrics, examples_df = trainer.run_evaluate(config)\n",
    "plt.close()"
   ]
  },
  {
   "cell_type": "code",
   "execution_count": null,
   "id": "f14388fc",
   "metadata": {},
   "outputs": [],
   "source": []
  }
 ],
 "metadata": {
  "kernelspec": {
   "display_name": "Python 3 (ipykernel)",
   "language": "python",
   "name": "python3"
  },
  "language_info": {
   "codemirror_mode": {
    "name": "ipython",
    "version": 3
   },
   "file_extension": ".py",
   "mimetype": "text/x-python",
   "name": "python",
   "nbconvert_exporter": "python",
   "pygments_lexer": "ipython3",
   "version": "3.8.5"
  }
 },
 "nbformat": 4,
 "nbformat_minor": 5
}
