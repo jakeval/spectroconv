{
 "cells": [
  {
   "cell_type": "markdown",
   "id": "96892adb",
   "metadata": {},
   "source": [
    "# Construct a Processed Subset of NSYNTH"
   ]
  },
  {
   "cell_type": "markdown",
   "id": "07f21c0b",
   "metadata": {},
   "source": [
    "## Setup"
   ]
  },
  {
   "cell_type": "code",
   "execution_count": 1,
   "id": "3d84aacc",
   "metadata": {},
   "outputs": [],
   "source": [
    "%load_ext autoreload\n",
    "%autoreload 2"
   ]
  },
  {
   "cell_type": "code",
   "execution_count": 2,
   "id": "2af4d441",
   "metadata": {},
   "outputs": [],
   "source": [
    "# ENABLE IF USING COLAB\n",
    "USE_COLAB = False\n",
    "\n",
    "if USE_COLAB:\n",
    "    import os\n",
    "    import shutil\n",
    "    if os.path.exists('/content/spectroconv/'):\n",
    "        shutil.rmtree('/content/spectroconv/') #deletes a directory and all its contents.\n",
    "    !git clone https://github.com/jakeval/spectroconv.git\n",
    "    !pip install hub\n",
    "    !pip install hub[audio]\n",
    "    !pip install wandb\n",
    "    import sys\n",
    "    sys.path.insert(0,'/content/spectroconv')"
   ]
  },
  {
   "cell_type": "code",
   "execution_count": 3,
   "id": "c5ae8b48",
   "metadata": {},
   "outputs": [],
   "source": [
    "from data_utils import preprocessing\n",
    "from data_utils import nsynth_adapter as na\n",
    "from data_utils.dataset_constructor import WBDatasetConstructor\n",
    "\n",
    "from matplotlib import pyplot as plt\n",
    "import numpy as np"
   ]
  },
  {
   "cell_type": "markdown",
   "id": "3450bb88",
   "metadata": {},
   "source": [
    "## Setup the Configs"
   ]
  },
  {
   "cell_type": "code",
   "execution_count": 24,
   "id": "99569d02",
   "metadata": {},
   "outputs": [],
   "source": [
    "wb_config = {\n",
    "    'project': 'spectroconv-debug',\n",
    "    'entity': 'jakeval-colab',\n",
    "}\n",
    "\n",
    "def get_config(split):\n",
    "    params = {\n",
    "        'artifact': {\n",
    "            'name': 'nsynth-med-shift', # name-split\n",
    "            'split': split\n",
    "        },\n",
    "        'hub_urls': {\n",
    "            'source': f'hub://activeloop/nsynth-{split}',\n",
    "            'target': f'hub://jakeval/nsynth-med-shift-{split}'\n",
    "        },\n",
    "        'preprocessor': {\n",
    "            'window_size': 1024,\n",
    "            'n_mels': 128,\n",
    "            'scaling': 1000\n",
    "        },\n",
    "        'subset': {\n",
    "            'selected_families': [\n",
    "                na.InstrumentFamily.REED.value,\n",
    "                na.InstrumentFamily.BRASS.value,\n",
    "                na.InstrumentFamily.ORGAN.value],\n",
    "            'instruments_per_family': None,\n",
    "            'min_pitch': None,\n",
    "            'max_pitch': None\n",
    "        },\n",
    "    }\n",
    "    if split == 'train':\n",
    "        params.update({'augmentation': \n",
    "            {'shift_up': 2,\n",
    "             'shift_down': 1.2}})\n",
    "\n",
    "    return params"
   ]
  },
  {
   "cell_type": "markdown",
   "id": "685bd36f",
   "metadata": {},
   "source": [
    "## Run it"
   ]
  },
  {
   "cell_type": "code",
   "execution_count": null,
   "id": "842a39d5",
   "metadata": {},
   "outputs": [
    {
     "name": "stdout",
     "output_type": "stream",
     "text": [
      "{'project': 'spectroconv-debug', 'entity': 'jakeval-colab'}\n"
     ]
    },
    {
     "data": {
      "text/html": [
       "wandb version 0.12.15 is available!  To upgrade, please run:\n",
       " $ pip install wandb --upgrade"
      ],
      "text/plain": [
       "<IPython.core.display.HTML object>"
      ]
     },
     "metadata": {},
     "output_type": "display_data"
    },
    {
     "data": {
      "text/html": [
       "Tracking run with wandb version 0.12.14"
      ],
      "text/plain": [
       "<IPython.core.display.HTML object>"
      ]
     },
     "metadata": {},
     "output_type": "display_data"
    },
    {
     "data": {
      "text/html": [
       "Run data is saved locally in <code>/home/jakeval/umass/682/project/spectroconv/wandb/run-20220502_015846-242oslrp</code>"
      ],
      "text/plain": [
       "<IPython.core.display.HTML object>"
      ]
     },
     "metadata": {},
     "output_type": "display_data"
    },
    {
     "data": {
      "text/html": [
       "Syncing run <strong><a href=\"https://wandb.ai/jakeval-colab/spectroconv-debug/runs/242oslrp\" target=\"_blank\">vague-surf-695</a></strong> to <a href=\"https://wandb.ai/jakeval-colab/spectroconv-debug\" target=\"_blank\">Weights & Biases</a> (<a href=\"https://wandb.me/run\" target=\"_blank\">docs</a>)<br/>"
      ],
      "text/plain": [
       "<IPython.core.display.HTML object>"
      ]
     },
     "metadata": {},
     "output_type": "display_data"
    },
    {
     "name": "stdout",
     "output_type": "stream",
     "text": [
      "Opening dataset in read-only mode as you don't have write permissions.\n",
      "hub://activeloop/nsynth-test loaded successfully.\n",
      "This dataset can be visualized at https://app.activeloop.ai/activeloop/nsynth-test.\n",
      "Your Hub dataset has been successfully created!\n",
      "The dataset is private so make sure you are logged in!\n",
      "This dataset can be visualized at https://app.activeloop.ai/jakeval/nsynth-med-shift-test-metadata.\n",
      "Your Hub dataset has been successfully created!\n",
      "The dataset is private so make sure you are logged in!\n",
      "This dataset can be visualized at https://app.activeloop.ai/jakeval/nsynth-med-shift-test.\n",
      "Load 488 audio clips...\n",
      "Take the spectrogram...\n",
      "Write to the database...\n",
      "Load 488 audio clips...\n",
      "Take the spectrogram...\n",
      "Write to the database...\n",
      "Load 15 audio clips...\n",
      "Take the spectrogram...\n",
      "Write to the database...\n",
      "Finished writing data in 1.7728420615196228 minutes\n",
      "start loading 3 samples\n",
      "finished loading!\n",
      "\n"
     ]
    },
    {
     "data": {
      "text/html": [
       "Waiting for W&B process to finish... <strong style=\"color:green\">(success).</strong>"
      ],
      "text/plain": [
       "<IPython.core.display.HTML object>"
      ]
     },
     "metadata": {},
     "output_type": "display_data"
    },
    {
     "data": {
      "application/vnd.jupyter.widget-view+json": {
       "model_id": "",
       "version_major": 2,
       "version_minor": 0
      },
      "text/plain": [
       "VBox(children=(Label(value='0.462 MB of 0.462 MB uploaded (0.000 MB deduped)\\r'), FloatProgress(value=1.0, max…"
      ]
     },
     "metadata": {},
     "output_type": "display_data"
    },
    {
     "data": {
      "text/html": [
       "Synced <strong style=\"color:#cdcd00\">vague-surf-695</strong>: <a href=\"https://wandb.ai/jakeval-colab/spectroconv-debug/runs/242oslrp\" target=\"_blank\">https://wandb.ai/jakeval-colab/spectroconv-debug/runs/242oslrp</a><br/>Synced 5 W&B file(s), 0 media file(s), 7 artifact file(s) and 0 other file(s)"
      ],
      "text/plain": [
       "<IPython.core.display.HTML object>"
      ]
     },
     "metadata": {},
     "output_type": "display_data"
    },
    {
     "data": {
      "text/html": [
       "Find logs at: <code>./wandb/run-20220502_015846-242oslrp/logs</code>"
      ],
      "text/plain": [
       "<IPython.core.display.HTML object>"
      ]
     },
     "metadata": {},
     "output_type": "display_data"
    },
    {
     "data": {
      "text/html": [
       "wandb version 0.12.15 is available!  To upgrade, please run:\n",
       " $ pip install wandb --upgrade"
      ],
      "text/plain": [
       "<IPython.core.display.HTML object>"
      ]
     },
     "metadata": {},
     "output_type": "display_data"
    },
    {
     "data": {
      "text/html": [
       "Tracking run with wandb version 0.12.14"
      ],
      "text/plain": [
       "<IPython.core.display.HTML object>"
      ]
     },
     "metadata": {},
     "output_type": "display_data"
    },
    {
     "data": {
      "text/html": [
       "Run data is saved locally in <code>/home/jakeval/umass/682/project/spectroconv/wandb/run-20220502_020209-v7jwmxqv</code>"
      ],
      "text/plain": [
       "<IPython.core.display.HTML object>"
      ]
     },
     "metadata": {},
     "output_type": "display_data"
    },
    {
     "data": {
      "text/html": [
       "Syncing run <strong><a href=\"https://wandb.ai/jakeval-colab/spectroconv-debug/runs/v7jwmxqv\" target=\"_blank\">rich-sound-696</a></strong> to <a href=\"https://wandb.ai/jakeval-colab/spectroconv-debug\" target=\"_blank\">Weights & Biases</a> (<a href=\"https://wandb.me/run\" target=\"_blank\">docs</a>)<br/>"
      ],
      "text/plain": [
       "<IPython.core.display.HTML object>"
      ]
     },
     "metadata": {},
     "output_type": "display_data"
    },
    {
     "name": "stdout",
     "output_type": "stream",
     "text": [
      "Opening dataset in read-only mode as you don't have write permissions.\n",
      "hub://activeloop/nsynth-val loaded successfully.\n",
      "This dataset can be visualized at https://app.activeloop.ai/activeloop/nsynth-val.\n",
      "Your Hub dataset has been successfully created!\n",
      "The dataset is private so make sure you are logged in!\n",
      "This dataset can be visualized at https://app.activeloop.ai/jakeval/nsynth-med-shift-val-metadata.\n",
      "Your Hub dataset has been successfully created!\n",
      "The dataset is private so make sure you are logged in!\n",
      "This dataset can be visualized at https://app.activeloop.ai/jakeval/nsynth-med-shift-val.\n",
      "Load 488 audio clips...\n",
      "Take the spectrogram...\n",
      "Write to the database...\n",
      "Load 488 audio clips...\n",
      "Take the spectrogram...\n",
      "Write to the database...\n",
      "Load 488 audio clips...\n",
      "Take the spectrogram...\n",
      "Write to the database...\n",
      "Load 488 audio clips...\n",
      "Take the spectrogram...\n",
      "Write to the database...\n",
      "Load 488 audio clips...\n",
      "Take the spectrogram...\n",
      "Write to the database...\n",
      "Load 488 audio clips...\n",
      "Take the spectrogram...\n",
      "Write to the database...\n",
      "Load 231 audio clips...\n",
      "Take the spectrogram...\n",
      "Write to the database...\n",
      "Finished writing data in 4.37351522843043 minutes\n",
      "start loading 3 samples\n",
      "finished loading!\n",
      "\n"
     ]
    },
    {
     "data": {
      "text/html": [
       "Waiting for W&B process to finish... <strong style=\"color:green\">(success).</strong>"
      ],
      "text/plain": [
       "<IPython.core.display.HTML object>"
      ]
     },
     "metadata": {},
     "output_type": "display_data"
    },
    {
     "data": {
      "application/vnd.jupyter.widget-view+json": {
       "model_id": "",
       "version_major": 2,
       "version_minor": 0
      },
      "text/plain": [
       "VBox(children=(Label(value='0.430 MB of 0.430 MB uploaded (0.000 MB deduped)\\r'), FloatProgress(value=1.0, max…"
      ]
     },
     "metadata": {},
     "output_type": "display_data"
    },
    {
     "data": {
      "text/html": [
       "Synced <strong style=\"color:#cdcd00\">rich-sound-696</strong>: <a href=\"https://wandb.ai/jakeval-colab/spectroconv-debug/runs/v7jwmxqv\" target=\"_blank\">https://wandb.ai/jakeval-colab/spectroconv-debug/runs/v7jwmxqv</a><br/>Synced 5 W&B file(s), 0 media file(s), 7 artifact file(s) and 0 other file(s)"
      ],
      "text/plain": [
       "<IPython.core.display.HTML object>"
      ]
     },
     "metadata": {},
     "output_type": "display_data"
    },
    {
     "data": {
      "text/html": [
       "Find logs at: <code>./wandb/run-20220502_020209-v7jwmxqv/logs</code>"
      ],
      "text/plain": [
       "<IPython.core.display.HTML object>"
      ]
     },
     "metadata": {},
     "output_type": "display_data"
    },
    {
     "data": {
      "text/html": [
       "wandb version 0.12.15 is available!  To upgrade, please run:\n",
       " $ pip install wandb --upgrade"
      ],
      "text/plain": [
       "<IPython.core.display.HTML object>"
      ]
     },
     "metadata": {},
     "output_type": "display_data"
    },
    {
     "data": {
      "text/html": [
       "Tracking run with wandb version 0.12.14"
      ],
      "text/plain": [
       "<IPython.core.display.HTML object>"
      ]
     },
     "metadata": {},
     "output_type": "display_data"
    },
    {
     "data": {
      "text/html": [
       "Run data is saved locally in <code>/home/jakeval/umass/682/project/spectroconv/wandb/run-20220502_020955-28n8c7rd</code>"
      ],
      "text/plain": [
       "<IPython.core.display.HTML object>"
      ]
     },
     "metadata": {},
     "output_type": "display_data"
    },
    {
     "data": {
      "text/html": [
       "Syncing run <strong><a href=\"https://wandb.ai/jakeval-colab/spectroconv-debug/runs/28n8c7rd\" target=\"_blank\">swift-snowflake-697</a></strong> to <a href=\"https://wandb.ai/jakeval-colab/spectroconv-debug\" target=\"_blank\">Weights & Biases</a> (<a href=\"https://wandb.me/run\" target=\"_blank\">docs</a>)<br/>"
      ],
      "text/plain": [
       "<IPython.core.display.HTML object>"
      ]
     },
     "metadata": {},
     "output_type": "display_data"
    },
    {
     "name": "stdout",
     "output_type": "stream",
     "text": [
      "Opening dataset in read-only mode as you don't have write permissions.\n",
      "hub://activeloop/nsynth-train loaded successfully.\n",
      "This dataset can be visualized at https://app.activeloop.ai/activeloop/nsynth-train.\n",
      "Your Hub dataset has been successfully created!\n",
      "The dataset is private so make sure you are logged in!\n",
      "This dataset can be visualized at https://app.activeloop.ai/jakeval/nsynth-med-shift-train-metadata.\n",
      "Your Hub dataset has been successfully created!\n",
      "The dataset is private so make sure you are logged in!\n",
      "This dataset can be visualized at https://app.activeloop.ai/jakeval/nsynth-med-shift-train.\n",
      "Load 488 audio clips...\n",
      "start shift\n",
      "end shift\n",
      "Take the spectrogram...\n",
      "Write to the database...\n",
      "Load 488 audio clips...\n"
     ]
    },
    {
     "name": "stderr",
     "output_type": "stream",
     "text": [
      "/home/jakeval/umass/682/project/spectroconv/.env/lib/python3.8/site-packages/hub/core/storage/s3.py:221: UserWarning: Encountered connection error, retry 1 out of 2\n",
      "  warnings.warn(f\"Encountered connection error, retry {i} out of {tries}\")\n"
     ]
    },
    {
     "name": "stdout",
     "output_type": "stream",
     "text": [
      "start shift\n",
      "end shift\n",
      "Take the spectrogram...\n",
      "Write to the database...\n",
      "Load 488 audio clips...\n",
      "start shift\n",
      "end shift\n",
      "Take the spectrogram...\n",
      "Write to the database...\n",
      "Load 488 audio clips...\n",
      "start shift\n",
      "end shift\n",
      "Take the spectrogram...\n",
      "Write to the database...\n",
      "Load 488 audio clips...\n",
      "start shift\n"
     ]
    },
    {
     "name": "stderr",
     "output_type": "stream",
     "text": [
      "/home/jakeval/umass/682/project/spectroconv/.env/lib/python3.8/site-packages/hub/core/storage/s3.py:221: UserWarning: Encountered connection error, retry 1 out of 5\n",
      "  warnings.warn(f\"Encountered connection error, retry {i} out of {tries}\")\n",
      "/home/jakeval/umass/682/project/spectroconv/.env/lib/python3.8/site-packages/hub/core/storage/s3.py:221: UserWarning: Encountered connection error, retry 2 out of 5\n",
      "  warnings.warn(f\"Encountered connection error, retry {i} out of {tries}\")\n",
      "/home/jakeval/umass/682/project/spectroconv/.env/lib/python3.8/site-packages/hub/core/storage/s3.py:221: UserWarning: Encountered connection error, retry 3 out of 5\n",
      "  warnings.warn(f\"Encountered connection error, retry {i} out of {tries}\")\n",
      "/home/jakeval/umass/682/project/spectroconv/.env/lib/python3.8/site-packages/hub/core/storage/s3.py:221: UserWarning: Encountered connection error, retry 4 out of 5\n",
      "  warnings.warn(f\"Encountered connection error, retry {i} out of {tries}\")\n",
      "/home/jakeval/umass/682/project/spectroconv/.env/lib/python3.8/site-packages/hub/core/storage/s3.py:221: UserWarning: Encountered connection error, retry 5 out of 5\n",
      "  warnings.warn(f\"Encountered connection error, retry {i} out of {tries}\")\n"
     ]
    },
    {
     "name": "stdout",
     "output_type": "stream",
     "text": [
      "end shift\n",
      "Take the spectrogram...\n",
      "Write to the database...\n",
      "Load 488 audio clips...\n",
      "\n"
     ]
    },
    {
     "data": {
      "text/html": [
       "Waiting for W&B process to finish... <strong style=\"color:red\">(failed 1).</strong> Press Control-C to abort syncing."
      ],
      "text/plain": [
       "<IPython.core.display.HTML object>"
      ]
     },
     "metadata": {},
     "output_type": "display_data"
    }
   ],
   "source": [
    "wdc = WBDatasetConstructor(wb_config)\n",
    "wdc.make_dataset(get_config('test'))\n",
    "wdc.make_dataset(get_config('val'))\n",
    "wdc.make_dataset(get_config('train'))"
   ]
  },
  {
   "cell_type": "code",
   "execution_count": null,
   "id": "ec0fa190",
   "metadata": {},
   "outputs": [],
   "source": []
  }
 ],
 "metadata": {
  "kernelspec": {
   "display_name": "Python 3 (ipykernel)",
   "language": "python",
   "name": "python3"
  },
  "language_info": {
   "codemirror_mode": {
    "name": "ipython",
    "version": 3
   },
   "file_extension": ".py",
   "mimetype": "text/x-python",
   "name": "python",
   "nbconvert_exporter": "python",
   "pygments_lexer": "ipython3",
   "version": "3.8.5"
  }
 },
 "nbformat": 4,
 "nbformat_minor": 5
}
